{
 "cells": [
  {
   "cell_type": "markdown",
   "id": "28a4438b-697e-46cb-9647-e5454eba2f80",
   "metadata": {},
   "source": [
    "# Preface\n",
    "\n",
    "To get started, install the core packages used in this book:\n",
    "\n",
    "```bash\n",
    "(jupyter) venv % pip install --upgrade numpy pandas scikit-learn matplotlib seaborn jupyter\n",
    "```"
   ]
  }
 ],
 "metadata": {
  "kernelspec": {
   "display_name": "Python 3 (ipykernel)",
   "language": "python",
   "name": "python3"
  },
  "language_info": {
   "codemirror_mode": {
    "name": "ipython",
    "version": 3
   },
   "file_extension": ".py",
   "mimetype": "text/x-python",
   "name": "python",
   "nbconvert_exporter": "python",
   "pygments_lexer": "ipython3",
   "version": "3.13.1"
  }
 },
 "nbformat": 4,
 "nbformat_minor": 5
}

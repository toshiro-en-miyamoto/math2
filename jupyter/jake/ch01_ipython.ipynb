{
 "cells": [
  {
   "cell_type": "markdown",
   "id": "88cf501c-57f1-4bd1-a635-b34ecffae665",
   "metadata": {},
   "source": [
    "# Chapter 1. IPython\n",
    "\n",
    "## Keyboard shortcuts\n",
    "\n",
    "Navigating the cursor:\n",
    "\n",
    "| shortcut | description |\n",
    "|----------|-------------|\n",
    "| ctrl-a   | move cursor to beginning of line  |\n",
    "| ctrl-e   | move cursor to end of the line    |\n",
    "| ctrl-b   | move cursor back one character    |\n",
    "| ctrl-f   | move cursor forward one character |\n",
    "\n",
    "Text entry:\n",
    "\n",
    "| shortcut | description |\n",
    "|----------|-------------|\n",
    "| backsp   | delete previous character in line          |\n",
    "| ctrl-d   | delete next character in line              |\n",
    "| ctrl-k   | cut text from cuursor to end of line       |\n",
    "| ctrl-u   | cut text from beginning of line to cursor  |\n",
    "| ctrl-y   | yank (paste) text that was previously cut  |\n",
    "| ctrl-t   | transpose (switch) previous two characters |\n",
    "\n",
    "Command history:\n",
    "\n",
    "| shortcut | description |\n",
    "|----------|-------------|\n",
    "| ctrl-p   | access previous command in history     |\n",
    "| ctrl-n   | access next command in history         |\n",
    "| ctrl-r   | reverse-search through command history |\n",
    "\n",
    "Miscellaneous:\n",
    "\n",
    "| shortcut | description |\n",
    "|----------|-------------|\n",
    "| ctrl-l   | clear terminal screen            |\n",
    "| ctrl-c   | interrupt current Python command |\n",
    "| ctrl-d   | exit Python session              |"
   ]
  }
 ],
 "metadata": {
  "kernelspec": {
   "display_name": "Python 3 (ipykernel)",
   "language": "python",
   "name": "python3"
  },
  "language_info": {
   "codemirror_mode": {
    "name": "ipython",
    "version": 3
   },
   "file_extension": ".py",
   "mimetype": "text/x-python",
   "name": "python",
   "nbconvert_exporter": "python",
   "pygments_lexer": "ipython3",
   "version": "3.13.1"
  }
 },
 "nbformat": 4,
 "nbformat_minor": 5
}

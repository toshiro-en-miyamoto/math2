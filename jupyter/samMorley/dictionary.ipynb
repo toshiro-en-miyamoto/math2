{
 "cells": [
  {
   "cell_type": "markdown",
   "id": "5962ec81-25a3-455f-beb1-57348e536565",
   "metadata": {},
   "source": [
    "# Dictionary\n",
    "\n",
    "| en | ja |\n",
    "|----|----|\n",
    "| trigonometric functions     | 三角関数 |\n",
    "| the exponential function    | 指数関数 |\n",
    "| logarithms                  | 対数関数 |\n",
    "| matrix (pl. matrices)       | 行列    |\n",
    "| systems of linear equations | 連立一次方程式 |\n",
    "| integers                    | 整数 |\n",
    "| floating-point numbers      | 浮動小数点数 |\n",
    "| precision                   | 精度 |\n",
    "| complex numbers             | 複素数 |\n",
    "| decimal                     | 十進法、少数部 |\n",
    "| decimal point               | 小数点 |\n",
    "| three decimal places        | 小数点以下3桁 |\n",
    "| error                       | 誤差 |\n",
    "| the 4th power of 1.1        | 1.1の4乗 |\n",
    "| significant figures         | 有効桁数 |\n",
    "| round to 3 significant figures    | 有効桁数3で四捨五入する |\n",
    "| fractions                   | 分数 |\n",
    "| the numerator               | 分子 |\n",
    "| the denominator             | 分母 |\n",
    "| arithmetic operations       | 算術、四則演算 |\n",
    "| addition                    | 加算 |\n",
    "| subtraction                 | 減算 |\n",
    "| multiplication              | 乗算 |\n",
    "| division                    | 除算 |"
   ]
  }
 ],
 "metadata": {
  "kernelspec": {
   "display_name": "Python 3 (ipykernel)",
   "language": "python",
   "name": "python3"
  },
  "language_info": {
   "codemirror_mode": {
    "name": "ipython",
    "version": 3
   },
   "file_extension": ".py",
   "mimetype": "text/x-python",
   "name": "python",
   "nbconvert_exporter": "python",
   "pygments_lexer": "ipython3",
   "version": "3.13.1"
  }
 },
 "nbformat": 4,
 "nbformat_minor": 5
}

{
 "cells": [
  {
   "cell_type": "markdown",
   "id": "70f7e9a7-17fd-4946-b078-980d411bf22f",
   "metadata": {},
   "source": [
    "# Calculus and Differential Equations"
   ]
  },
  {
   "cell_type": "markdown",
   "id": "bd158d1e-d35d-4d3f-bde7-82ebf9a9e1eb",
   "metadata": {},
   "source": [
    "## Polynomials and calculus"
   ]
  },
  {
   "cell_type": "markdown",
   "id": "0fd5da8e-22ff-41ae-81c6-30c23cb329b9",
   "metadata": {},
   "source": [
    "A [polynomial](https://mathworld.wolfram.com/Polynomial.html) is a mathematical expression involving a sum of powers in one or more variables multiplied by coefficients. A polynomial in one variable (i.e., a univariate polynomial) with constant coefficients is given by\n",
    "\n",
    "$$\n",
    "a_n \\, x^n + a_{n-1} \\, x^{n-1} + \\cdots + a_2 \\, x^2 + a_1 \\, x + a_0\n",
    "$$"
   ]
  },
  {
   "cell_type": "markdown",
   "id": "740aea2e-d068-42b9-9fb0-9c19b5690fd2",
   "metadata": {},
   "source": [
    "Calculus concerns the *differentiation* and *integration* of functions. Geometrically,\n",
    "\n",
    "- the *derivative*, obtained by *differentiating*, of a function is its *gradient*\n",
    "- the *integral*, obtained by *integrating*, of a function is the area that lies between the curve of the function and the $x$ axis, accounting for whether the curve lies above or below the axis"
   ]
  },
  {
   "cell_type": "markdown",
   "id": "de92f60c-d78f-4e02-8ddf-64c07116e342",
   "metadata": {},
   "source": [
    "Differentiation: for powers of a variable $x$, the rule for differentiation is to multiply by the power and reduce the power by 1, so that\n",
    "\n",
    "$$\n",
    "\\frac{\\mathrm{d}(x^n)}{\\mathrm{d}x} = n \\, x^{n-1}\n",
    "$$"
   ]
  },
  {
   "cell_type": "markdown",
   "id": "fade6fd2-80d6-4509-aed8-eea01ba73d5d",
   "metadata": {},
   "source": [
    "Integration: for powers of a variable $x$, the rule for integration is to increase the power by 1 and divide by the new power, so that\n",
    "\n",
    "$$\n",
    "\\int x^n \\, \\mathrm{d}x = \\frac{x^{n+1}}{n+1}\n",
    "$$"
   ]
  }
 ],
 "metadata": {
  "kernelspec": {
   "display_name": "Python 3 (ipykernel)",
   "language": "python",
   "name": "python3"
  },
  "language_info": {
   "codemirror_mode": {
    "name": "ipython",
    "version": 3
   },
   "file_extension": ".py",
   "mimetype": "text/x-python",
   "name": "python",
   "nbconvert_exporter": "python",
   "pygments_lexer": "ipython3",
   "version": "3.13.1"
  }
 },
 "nbformat": 4,
 "nbformat_minor": 5
}

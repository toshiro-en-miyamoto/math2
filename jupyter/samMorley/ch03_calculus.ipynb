{
 "cells": [
  {
   "cell_type": "markdown",
   "id": "70f7e9a7-17fd-4946-b078-980d411bf22f",
   "metadata": {},
   "source": [
    "# Calculus and Differential Equations"
   ]
  },
  {
   "cell_type": "markdown",
   "id": "bd158d1e-d35d-4d3f-bde7-82ebf9a9e1eb",
   "metadata": {},
   "source": [
    "## Polynomials and calculus"
   ]
  },
  {
   "cell_type": "markdown",
   "id": "0fd5da8e-22ff-41ae-81c6-30c23cb329b9",
   "metadata": {},
   "source": [
    "A [polynomial](https://mathworld.wolfram.com/Polynomial.html) is a mathematical expression involving a sum of powers in one or more variables multiplied by coefficients. A polynomial in one variable (i.e., a univariate polynomial) with constant coefficients is given by\n",
    "\n",
    "$$\n",
    "a_n \\, x^n + a_{n-1} \\, x^{n-1} + \\cdots + a_2 \\, x^2 + a_1 \\, x + a_0\n",
    "$$"
   ]
  },
  {
   "cell_type": "markdown",
   "id": "740aea2e-d068-42b9-9fb0-9c19b5690fd2",
   "metadata": {},
   "source": [
    "Calculus concerns the *differentiation* and *integration* of functions. Geometrically,\n",
    "\n",
    "- the *derivative*, obtained by *differentiating*, of a function is its *gradient*\n",
    "- the *integral*, obtained by *integrating*, of a function is the area that lies between the curve of the function and the $x$ axis, accounting for whether the curve lies above or below the axis"
   ]
  },
  {
   "cell_type": "markdown",
   "id": "2287bdef-3a48-4da1-9fff-278aeb01fb55",
   "metadata": {},
   "source": [
    "### Differentiation"
   ]
  },
  {
   "cell_type": "markdown",
   "id": "de92f60c-d78f-4e02-8ddf-64c07116e342",
   "metadata": {},
   "source": [
    "For powers of a variable $x$, the rule for differentiation is to multiply by the power and reduce the power by 1, so that\n",
    "\n",
    "$$\n",
    "\\frac{\\mathrm{d}}{\\mathrm{d}x}\\,x^n = n \\, x^{n-1}\n",
    "$$"
   ]
  },
  {
   "cell_type": "markdown",
   "id": "e7fb4186-970f-4768-85ea-4d39e9f33172",
   "metadata": {},
   "source": [
    "The [derivative](https://mathworld.wolfram.com/Derivative.html) of a function $f$ with respect to the variable $x$, denoted either $f'(x)$ or $\\displaystyle\\frac{\\mathrm{d}f}{\\mathrm{d}x}$, is defined as\n",
    "\n",
    "$$\n",
    "f'(x) \\equiv \\lim\\limits_{h \\to 0} \\frac{f(x+h)-f(x)}{h}\n",
    "$$"
   ]
  },
  {
   "cell_type": "markdown",
   "id": "0a8c7ee1-7483-49de-a5f1-92ec7011cac5",
   "metadata": {},
   "source": [
    "Derivatives of sums are equal to the sum of derivatives so that\n",
    "\n",
    "$$\n",
    "\\{f + \\cdots + h \\}' = f' + \\cdots + h'\n",
    "$$"
   ]
  },
  {
   "cell_type": "markdown",
   "id": "b047eae8-b867-4061-9356-c851bb665e8c",
   "metadata": {},
   "source": [
    "If $c$ is a constant,\n",
    "\n",
    "$$\n",
    "\\{ c\\,f \\}' = c\\,f'\n",
    "$$"
   ]
  },
  {
   "cell_type": "markdown",
   "id": "68535e6d-31be-46f4-931b-781b2f8b092d",
   "metadata": {},
   "source": [
    "The *product rule for differentiation* states that\n",
    "$\\{ fg \\}' = fg' + f'g$.\n",
    "Since $\\displaystyle\\lim\\limits_{h \\to 0} f(x+h) = f(x)$,\n",
    "\n",
    "$$\n",
    "\\begin{aligned}\n",
    "\\frac{\\mathrm{d}}{\\mathrm{d}x} \\{ fg \\}\n",
    "& = \\lim\\limits_{h \\to 0} \\frac{f(x+h) g(x+h) - f(x) g(x)}{h} \\\\\n",
    "& = \\lim\\limits_{h \\to 0} \\frac{f(x+h) g(x+h) -f(x+h) g(x) + f(x+h) g(x) - f(x) g(x)}{h} \\\\\n",
    "& = \\lim\\limits_{h \\to 0} f(x+h) \\frac{g(x+h) - g(x)}{h}\n",
    "  + \\lim\\limits_{h \\to 0} \\frac{f(x+h) - f(x)}{h}\\, g(x) \\\\\n",
    "& = f\\frac{\\mathrm{d} g}{\\mathrm{d} x} + \\frac{\\mathrm{d} f}{\\mathrm{d} x} g\n",
    "\\end{aligned}\n",
    "$$"
   ]
  },
  {
   "cell_type": "markdown",
   "id": "0b1ffbc9-4073-4e05-9cfb-63320de69808",
   "metadata": {},
   "source": [
    "Derivatives of some simple functions are:\n",
    "\n",
    "$$\n",
    "\\begin{aligned}\n",
    "\\{ e^x \\}' & = e^x \\\\\n",
    "\\{ a^x \\}' & = (\\mathrm{ln}\\,a)\\,a^x \\\\\n",
    "\\{ \\mathrm{ln}\\,x \\}' & = 1/x \\\\\n",
    "\\{ \\sin x \\}' & = \\cos x \\\\\n",
    "\\{ \\cos x \\}' & = -\\sin x\n",
    "\\end{aligned}\n",
    "$$"
   ]
  },
  {
   "cell_type": "markdown",
   "id": "7aee4c21-b1f0-40b8-970c-9132a8284609",
   "metadata": {},
   "source": [
    "### Integration"
   ]
  },
  {
   "cell_type": "markdown",
   "id": "fade6fd2-80d6-4509-aed8-eea01ba73d5d",
   "metadata": {},
   "source": [
    "Integration is, roughly speaking, anti-differentiation, in the sense that first integrating and then differentiating yields the original function. For powers of a variable $x$, the rule for integration is to increase the power by 1 and divide by the new power, so that\n",
    "\n",
    "$$\n",
    "\\int x^{n-1} \\, \\mathrm{d}x = \\frac{x^n}{n}\n",
    "$$"
   ]
  }
 ],
 "metadata": {
  "kernelspec": {
   "display_name": "Python 3 (ipykernel)",
   "language": "python",
   "name": "python3"
  },
  "language_info": {
   "codemirror_mode": {
    "name": "ipython",
    "version": 3
   },
   "file_extension": ".py",
   "mimetype": "text/x-python",
   "name": "python",
   "nbconvert_exporter": "python",
   "pygments_lexer": "ipython3",
   "version": "3.13.1"
  }
 },
 "nbformat": 4,
 "nbformat_minor": 5
}

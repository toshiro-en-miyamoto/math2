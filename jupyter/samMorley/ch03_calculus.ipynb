{
 "cells": [
  {
   "cell_type": "markdown",
   "id": "70f7e9a7-17fd-4946-b078-980d411bf22f",
   "metadata": {},
   "source": [
    "# Calculus and Differential Equations"
   ]
  },
  {
   "cell_type": "markdown",
   "id": "0fd5da8e-22ff-41ae-81c6-30c23cb329b9",
   "metadata": {},
   "source": [
    "A [polynomial](https://mathworld.wolfram.com/Polynomial.html) is a mathematical expression involving a sum of powers in one or more variables multiplied by coefficients. A polynomial in one variable (i.e., a univariate polynomial) with constant coefficients is given by\n",
    "\n",
    "$$\n",
    "a_n x^n + \\cdots + a_2 x^2 + a_1 x + a_0\n",
    "$$"
   ]
  }
 ],
 "metadata": {
  "kernelspec": {
   "display_name": "Python 3 (ipykernel)",
   "language": "python",
   "name": "python3"
  },
  "language_info": {
   "codemirror_mode": {
    "name": "ipython",
    "version": 3
   },
   "file_extension": ".py",
   "mimetype": "text/x-python",
   "name": "python",
   "nbconvert_exporter": "python",
   "pygments_lexer": "ipython3",
   "version": "3.13.1"
  }
 },
 "nbformat": 4,
 "nbformat_minor": 5
}

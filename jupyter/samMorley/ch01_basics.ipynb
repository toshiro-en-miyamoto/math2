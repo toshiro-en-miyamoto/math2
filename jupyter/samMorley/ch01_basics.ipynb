{
 "cells": [
  {
   "cell_type": "markdown",
   "id": "5552bdaf-5dca-4603-a9e3-f1be00791157",
   "metadata": {},
   "source": [
    "# Chapter 1. Basics"
   ]
  },
  {
   "cell_type": "markdown",
   "id": "61da310e-a3b2-46e4-8cb1-bae7e7095b89",
   "metadata": {},
   "source": [
    "## Python numerical types"
   ]
  },
  {
   "cell_type": "markdown",
   "id": "f690fb0f-5902-4581-9677-611306491db4",
   "metadata": {},
   "source": [
    "### Decimal type"
   ]
  },
  {
   "cell_type": "markdown",
   "id": "275ec0bd-d95e-4c97-af69-e7c8fddc06bc",
   "metadata": {},
   "source": [
    "For applications that require decimal digits with accurate arithmetic operations, use the `Decimal` type from the `decimal` module in the Python Standard Library:"
   ]
  },
  {
   "cell_type": "code",
   "execution_count": 1,
   "id": "1b3feb52-1c7b-4c25-a576-b51de63e7737",
   "metadata": {},
   "outputs": [],
   "source": [
    "from decimal import Decimal\n",
    "num1 = Decimal('1.1')\n",
    "num2 = Decimal('1.563')\n",
    "assert Decimal('2.663') == num1 + num2"
   ]
  },
  {
   "cell_type": "markdown",
   "id": "a210ac79-59ce-45f0-9350-0d583b8a5872",
   "metadata": {},
   "source": [
    "Certain numbers such as `0.1` cannot be represented exactly using a finite sum of powers of 2. `0.1` has a binary expansion `0.000110011...`, which does not terminate. Any floating-point representation of this number will therefore carry a small error."
   ]
  },
  {
   "cell_type": "code",
   "execution_count": 2,
   "id": "24f5f729-073c-4d58-9d8d-f081e007f56d",
   "metadata": {},
   "outputs": [],
   "source": [
    "assert 2.663 != 1.1 + 1.563"
   ]
  },
  {
   "cell_type": "markdown",
   "id": "ee5ef4ed-c53d-49fa-892e-0d9d2ed39b33",
   "metadata": {},
   "source": [
    "The `decimal` package also provides a `Context` object, which allows fine-grained control over the precision, display, and attributes of `Decimal` objects:"
   ]
  },
  {
   "cell_type": "code",
   "execution_count": 3,
   "id": "8ad504fa-ad6f-4454-a939-a2ba1e2f1c11",
   "metadata": {},
   "outputs": [],
   "source": [
    "assert Decimal('1.4641') == num1**4\n",
    "\n",
    "from decimal import localcontext\n",
    "with localcontext() as ctx:\n",
    "    ctx.prec = 3\n",
    "    assert Decimal('1.46') == num1**4"
   ]
  },
  {
   "cell_type": "markdown",
   "id": "53b377cd-17c8-457c-aa64-ad54be5a85b6",
   "metadata": {},
   "source": [
    "> When we set the precision to `3`, rather than the default `28`, we see that the fourth power of 1.1 is rounded to three significant figures."
   ]
  },
  {
   "cell_type": "markdown",
   "id": "da97f20e-0af9-40b6-882b-2a0f50e55dc7",
   "metadata": {},
   "source": [
    "This means that context can be freely modified inside the `with` block, and will be returned to the default at the end."
   ]
  },
  {
   "cell_type": "markdown",
   "id": "7d938bd2-6275-40df-9ad0-443a93349d71",
   "metadata": {},
   "source": [
    "### Fraction type"
   ]
  },
  {
   "cell_type": "markdown",
   "id": "3f3b4113-f76f-4743-9d08-c8f6ed57148e",
   "metadata": {},
   "source": [
    "The `Fraction` type from the `fractions` module in the Python Standard Library, simply stores two integers (the numerator and the denominator), and arithmetic is performed using the basic rule for arithmetic of fractions."
   ]
  },
  {
   "cell_type": "code",
   "execution_count": 4,
   "id": "7c320cc0-2133-4374-a20b-d51924c91759",
   "metadata": {},
   "outputs": [],
   "source": [
    "from fractions import Fraction\n",
    "fr1 = Fraction(1, 3)\n",
    "fr2 = Fraction(1, 7)\n",
    "assert Fraction(10, 21) == fr1 + fr2\n",
    "assert Fraction(4, 21) == fr1 - fr2\n",
    "assert Fraction(1, 21) == fr1 * fr2\n",
    "assert Fraction(7, 3) == fr1 / fr2"
   ]
  },
  {
   "cell_type": "markdown",
   "id": "b2ca5920-8a0d-47b2-8b10-418ea4eba471",
   "metadata": {},
   "source": [
    "## Basic mathematical functions"
   ]
  },
  {
   "cell_type": "markdown",
   "id": "94c1083d-7c7f-4e55-8abb-5c09cfcc2af8",
   "metadata": {},
   "source": [
    "The `math` module in the Python Standard Library provides all of the standard mathematical functions, along with common constants and some utility functions:"
   ]
  },
  {
   "cell_type": "code",
   "execution_count": 5,
   "id": "782ae078-63bd-47b4-8094-d3320a55c93d",
   "metadata": {},
   "outputs": [],
   "source": [
    "import math\n",
    "assert 2.0 == math.sqrt(4)\n",
    "assert math.isclose(math.sin(math.pi/4), math.cos(math.pi/4))\n",
    "assert math.isclose(1.0, math.tan(math.pi/4))"
   ]
  },
  {
   "cell_type": "markdown",
   "id": "8d568d84-fb67-47ee-81ae-d29ad5c7a2d0",
   "metadata": {},
   "source": [
    "The `log` function in the `math` module performs logarithms.\n",
    "\n",
    "$$\n",
    "\\begin{aligned}\n",
    "y = \\log_b{x} &\\iff x = b^y\\\\\n",
    "y = \\ln{(x)} &\\iff x = e^y\n",
    "\\end{aligned}\n",
    "$$\n",
    "\n",
    "Where the constant $e$ is base of the natural logarithm, sometimes known as [Napier's constant](https://mathworld.wolfram.com/e.html). The constant can be accessed using `math.e`."
   ]
  },
  {
   "cell_type": "code",
   "execution_count": 6,
   "id": "60bc4a8b-336b-4df3-81c7-2eb7efb2bbf5",
   "metadata": {},
   "outputs": [],
   "source": [
    "assert math.log(10) == math.log(10, math.e)\n",
    "assert math.log(100, 10) == 2.0"
   ]
  },
  {
   "cell_type": "markdown",
   "id": "0eb8a16c-4b5b-4056-809d-33a3c0306cf1",
   "metadata": {},
   "source": [
    "In addition, the `math` contains various number of theoretic and combinatorial functions."
   ]
  },
  {
   "cell_type": "markdown",
   "id": "0f1d75f9-102b-4337-bf0c-f2ce2a247956",
   "metadata": {},
   "source": [
    "The `comb(n, k)` returns the number of ways to choose `k` items from a collection of `n` without repeats if order is not important. This number is sometimes written $\\displaystyle {^n}C_k = \\binom{n}{k} = \\frac{n!}{k!(n-k)!}$."
   ]
  },
  {
   "cell_type": "code",
   "execution_count": 7,
   "id": "0e2a2d92-683c-4617-9559-a584a402c6f4",
   "metadata": {},
   "outputs": [],
   "source": [
    "assert 10 == math.comb(5, 2)"
   ]
  },
  {
   "cell_type": "markdown",
   "id": "50e4036b-763e-466c-a507-fb502ddf8775",
   "metadata": {},
   "source": [
    "The `factorial(n)` returns the factorial\n",
    "$n! = n(n-1)(n-2)\\cdots 1$."
   ]
  },
  {
   "cell_type": "code",
   "execution_count": 8,
   "id": "1446f357-1341-47cd-ae7a-8186baadd3f7",
   "metadata": {},
   "outputs": [],
   "source": [
    "assert 120 == math.factorial(5)"
   ]
  },
  {
   "cell_type": "markdown",
   "id": "6854db33-399d-4575-aa18-4fe79b9f1261",
   "metadata": {},
   "source": [
    "There are also a number of functions for working with floating-point numbers. As `0.1` carries a small error, Python built-in function `sum` cannot return an accurate sum of values in an iterable, while `math.fsum` avoids loss of precision by tracking multiple intermediate partial sums."
   ]
  },
  {
   "cell_type": "code",
   "execution_count": 9,
   "id": "d22dfcc8-800b-4abf-a3ae-478317af17e2",
   "metadata": {},
   "outputs": [],
   "source": [
    "nums = [0.1]*10    # a list containing 0.1 ten items\n",
    "assert math.isclose(1.0, sum(nums))\n",
    "assert 1.0 == math.fsum(nums)"
   ]
  },
  {
   "cell_type": "markdown",
   "id": "5a69f4d2-a25f-41f7-837b-d2d7e9608803",
   "metadata": {},
   "source": [
    "The `math` module is a good choice if you need to apply a function to a relatively small collection of numbers. If you want to these functions to a large collection of data simultaneously, it is better to use their equivalents from the NumPy package, which are more efficient for working with arrays."
   ]
  },
  {
   "cell_type": "markdown",
   "id": "c496301d-b6df-4cbc-bbb4-cb676efdedcd",
   "metadata": {},
   "source": [
    "## NumPy arrays"
   ]
  },
  {
   "cell_type": "code",
   "execution_count": 10,
   "id": "d44f63b0-97d0-4bfc-bea3-51d0067b3b48",
   "metadata": {},
   "outputs": [],
   "source": [
    "import numpy as np"
   ]
  },
  {
   "cell_type": "markdown",
   "id": "ff410ee3-1fcd-4291-8a17-fd8c6eb959b0",
   "metadata": {},
   "source": [
    "The basic type provided by the NumPy library is the `ndarray` type (henceforth referred to as a NumPy array).\n",
    "\n",
    "- The NumPy array type is a Python wrapper around an underlying C array structure. The array operations are implemented in C and optimized for performance.\n",
    "- NumPy arrays must consist of homogeneous data (could be a pointer to an arbitrary Python object).\n",
    "- Under the hood, a NumPy array of any shape is a buffer containing the raw data as a flat (one-dimensional) array, and a collection of additional metadata that specifies details such as the type of the elements."
   ]
  },
  {
   "cell_type": "markdown",
   "id": "dafd3348-4df5-445b-a90a-d77acd14ff82",
   "metadata": {},
   "source": [
    "NumPy provides a number of [universal functions](https://numpy.org/doc/stable/user/basics.ufuncs.html).\n",
    "\n",
    "- A universal function (or ufunc for short) is a function that operates on ndarrays in an element-by-element fashion, supporting array broadcasting, type casting, and several other standard features.\n",
    "- That is, a ufunc is a “vectorized” wrapper for a function that takes a fixed number of specific inputs and produces a fixed number of specific outputs.\n",
    "\n",
    "*Broadcasting*: Each universal function takes array inputs and produces array outputs by performing the core function element-wise on the inputs (where an element is generally a scalar, but can be a vector or higher-order sub-array for generalized ufuncs)."
   ]
  },
  {
   "cell_type": "code",
   "execution_count": 11,
   "id": "97750f51-1451-4276-9cf1-254d694c9638",
   "metadata": {},
   "outputs": [],
   "source": [
    "assert np.all([0,1,2,3] == np.arange(4))"
   ]
  },
  {
   "cell_type": "code",
   "execution_count": 12,
   "id": "8751950d-42dc-403a-a020-ce7eb31b1a21",
   "metadata": {},
   "outputs": [],
   "source": [
    "assert np.all([1,1,1,1] == np.ones((1, 4)))"
   ]
  },
  {
   "cell_type": "code",
   "execution_count": 13,
   "id": "2494e28c-1343-4247-949e-80e6867d40ed",
   "metadata": {},
   "outputs": [],
   "source": [
    "assert np.all([-1,0,1,2] == np.arange(4) - np.ones((1, 4)))"
   ]
  },
  {
   "cell_type": "markdown",
   "id": "f5e1ccf6-d5c6-4a6f-8a7c-5faad7da74df",
   "metadata": {},
   "source": [
    "### Array creation"
   ]
  },
  {
   "cell_type": "markdown",
   "id": "96ec4425-2b94-4a46-afc7-4effb96a2534",
   "metadata": {},
   "source": [
    "There are six general mechanisms for [creating arrays](https://numpy.org/doc/stable/user/basics.creation.html):\n",
    "\n",
    "1. conversion from other Python structures (i.e., lists and tuples)\n",
    "   - NumPy arrays can be defined using Python sequence such as lists `[...]` and tuples `(...)`\n",
    "   - use `numpy.array` function to define a new array\n",
    "   - the `dtype` of elements in the array can be specified explicitly\n",
    "3. intrinsic NumPy array creation functions (e.g., arange, ones, zeros, etc.)\n",
    "4. replicating, joining, or mutating existing arrays\n",
    "5. reading arrays from disk, either from standard or custom formats\n",
    "   - this is the most common case of large array creation\n",
    "   - the [details](https://numpy.org/doc/stable/user/how-to-io.html#how-to-io) depend greatly on the format of data on disk\n",
    "6. creating arrays from raw bytes through the use of strings or buffers\n",
    "   - if the file has a relatively simple format then one can write a simple I/O library and use the NumPy fromfile() function and .tofile() method to read and write NumPy arrays directly (mind your byteorder though!)\n",
    "8. use of special library functions (e.g., random)\n",
    "   - many Python libraries, including SciPy, Pandas, and OpenCV, use NumPy ndarrays as the common format for data exchange"
   ]
  },
  {
   "cell_type": "markdown",
   "id": "b3006d59-3708-4af7-9530-8de4c28680fa",
   "metadata": {},
   "source": [
    "#### 1D array creation"
   ]
  },
  {
   "cell_type": "markdown",
   "id": "bec9eeaf-0518-4e49-9211-9dbd59f75a04",
   "metadata": {},
   "source": [
    "These functions can be split into roughly three categories\n",
    "\n",
    "- 1D array creation\n",
    "- 2D array creation\n",
    "- *n*-dimension array creation"
   ]
  },
  {
   "cell_type": "markdown",
   "id": "281b939d-c66f-4a38-a15b-285f980e80a8",
   "metadata": {},
   "source": [
    "#### 1D array creation"
   ]
  },
  {
   "cell_type": "markdown",
   "id": "f7aaa0aa-2726-4ad5-adb0-26c09b9cf538",
   "metadata": {},
   "source": [
    "The 1D array creation functions e.g. `numpy.linspace` and `numpy.arange` generally need at least two inputs, `start` and `stop`."
   ]
  },
  {
   "cell_type": "markdown",
   "id": "c86f1ff7-2385-4145-a592-f1d29b9ed623",
   "metadata": {},
   "source": [
    "`numpy.arange` creates arrays with regularly incrementing values, starting from `start` until `end` exclusive:"
   ]
  },
  {
   "cell_type": "markdown",
   "id": "391151c4-ba74-4cbf-9b9b-e4c86577236e",
   "metadata": {},
   "source": [
    "`numpy.linspace` will create arrays with a specified number of elements, and spaced equally between the specified beginning and end values inclusive."
   ]
  },
  {
   "cell_type": "code",
   "execution_count": 14,
   "id": "a872b118-b1d9-4b3f-808d-0384edf1b080",
   "metadata": {},
   "outputs": [],
   "source": [
    "assert np.all([ 0., 16., 32., 48., 64.] == np.linspace(0, 64, 5))"
   ]
  },
  {
   "cell_type": "markdown",
   "id": "9eff962a-3870-4193-9afd-d9698dab7ef0",
   "metadata": {},
   "source": [
    "#### 2D array creation"
   ]
  },
  {
   "cell_type": "markdown",
   "id": "a3a2746f-1ee0-4d6a-9367-98e9722cad92",
   "metadata": {},
   "source": [
    "The 2D array creation functions e.g. `numpy.eye`, `numpy.diag`, and `numpy.vander` define properties of special matrices represented as 2D arrays."
   ]
  },
  {
   "cell_type": "markdown",
   "id": "dbf5f924-e57e-4e27-b21f-58ff3de93b2f",
   "metadata": {},
   "source": [
    "`np.eye(n)` defines a 2D identity matrix. The elements where $i=j$ (row index and column index are equal) are 1 and the rest are 0, also known as the *identity matrix*."
   ]
  },
  {
   "cell_type": "code",
   "execution_count": 15,
   "id": "458471a6-1f17-41de-be1d-4463514691a3",
   "metadata": {},
   "outputs": [],
   "source": [
    "assert np.all(np.eye(3) == [\n",
    "    [1,0,0],\n",
    "    [0,1,0],\n",
    "    [0,0,1]\n",
    "])"
   ]
  },
  {
   "cell_type": "markdown",
   "id": "2fa4a78a-bb88-4f67-b864-3dc8dfec5438",
   "metadata": {},
   "source": [
    "`numpy.diag` can define either a square 2D array with given values along the diagonal and the rest are 0, also known as the *diagonal matrix*."
   ]
  },
  {
   "cell_type": "code",
   "execution_count": 16,
   "id": "d30f875a-daf2-4f33-9a5a-bdba57232ad1",
   "metadata": {},
   "outputs": [],
   "source": [
    "assert np.all(np.diag([1,2,3]) == [\n",
    "    [1,0,0],\n",
    "    [0,2,0],\n",
    "    [0,0,3]\n",
    "])"
   ]
  },
  {
   "cell_type": "markdown",
   "id": "17702586-d14a-4518-b07d-7874bdbc2857",
   "metadata": {},
   "source": [
    "#### *n*-dimension array creation"
   ]
  },
  {
   "cell_type": "markdown",
   "id": "d668a3e2-624d-4d52-b00e-bc644dc5fc4f",
   "metadata": {},
   "source": [
    "The ndarray creation functions e.g. `numpy.ones`, `numpy.zeros`, and `random` define arrays based upon the desired shape. The ndarray creation functions can create arrays with any dimension by specifying how many dimensions and length along that dimension in a tuple or list."
   ]
  },
  {
   "cell_type": "markdown",
   "id": "75cd6134-221b-4156-81a0-853bf351eeb8",
   "metadata": {},
   "source": [
    "`numpy.zeros` will create an array filled with 0 values with the specified shape."
   ]
  },
  {
   "cell_type": "code",
   "execution_count": 17,
   "id": "4b48f9cf-9d3b-4612-aaa2-823ca9482473",
   "metadata": {},
   "outputs": [],
   "source": [
    "assert np.all(np.zeros((2,3,4)) == [\n",
    "    [[0.,0.,0.,0.],[0.,0.,0.,0.],[0.,0.,0.,0.]],\n",
    "    [[0.,0.,0.,0.],[0.,0.,0.,0.],[0.,0.,0.,0.]]\n",
    "])   # the default type is float64"
   ]
  },
  {
   "cell_type": "markdown",
   "id": "8f52ae0b-ae2b-4fa8-878a-604dfd8f7170",
   "metadata": {},
   "source": [
    "`numpy.ones` will create an array filled with 1 values. It is identical to `numpy.zeros` in all other respects."
   ]
  },
  {
   "cell_type": "markdown",
   "id": "d3f807bb-a979-47aa-832c-fbfb564491f7",
   "metadata": {},
   "source": [
    "The `random` method of the result of `default_rng` will create an array filled with random values between 0 and 1. It is included with the `numpy.random` library. Below, two arrays are created with shapes (2,3) and (2,3,2), respectively. The seed is set to 42 so you can reproduce these pseudorandom numbers:\n",
    "\n",
    "```python\n",
    "from numpy.random import default_rng\n",
    "arr1 = default_rng(42).random((2,3))      # 2D array of shape (2,3)\n",
    "arr2 = default_rng(42).random((2,3,4))    # 3D array of shape (2,3,4)\n",
    "```"
   ]
  },
  {
   "cell_type": "markdown",
   "id": "6451f23f-baf3-4d46-b8a3-5e996ffabb51",
   "metadata": {},
   "source": [
    "### Higher dimensional arrays"
   ]
  },
  {
   "cell_type": "markdown",
   "id": "36ec4aa0-7e09-472f-b73b-ec6ee499b5d7",
   "metadata": {},
   "source": [
    "Here, we can create a two-dimensional array by providing a list of lists, where each member of the inner list is a number."
   ]
  },
  {
   "cell_type": "code",
   "execution_count": 18,
   "id": "ae07478e-ca97-409f-b486-0acb1b040923",
   "metadata": {},
   "outputs": [],
   "source": [
    "vec = np.array([1,2])\n",
    "assert np.all(vec.shape == (2,))"
   ]
  },
  {
   "cell_type": "code",
   "execution_count": 19,
   "id": "83edf1ed-1d10-4373-8b1f-8abe211cfc51",
   "metadata": {},
   "outputs": [],
   "source": [
    "mat = np.array([[1,2],[3,4]])\n",
    "assert np.all(mat.shape == (2,2))"
   ]
  },
  {
   "cell_type": "markdown",
   "id": "5a37156f-4d43-4ddc-98b3-4d5bbc69e4a6",
   "metadata": {},
   "source": [
    "Recall that under the hood, a NumPy array of any shape is a buffer containing the raw data as a flat (one-dimensional) array, and a collection of additional metadata that specifies details. One of the metadata is the `shape` that specifies the dimension of the NumPy array."
   ]
  },
  {
   "cell_type": "markdown",
   "id": "2b0e67a5-136f-4df7-823c-5093f89cf57c",
   "metadata": {},
   "source": [
    "An array can be reshaped with little cost by simply changing the associated metadata. This is done using the `numpy.ndarray.reshape` method on the NumPy array:"
   ]
  },
  {
   "cell_type": "code",
   "execution_count": 20,
   "id": "1c9db18c-1d89-405f-b7f1-e8be1fc59d7f",
   "metadata": {},
   "outputs": [],
   "source": [
    "mat2 = mat.reshape((4,))\n",
    "# mat.reshape((4,))\n",
    "assert np.all(mat2.shape == (4,))\n",
    "assert np.all(mat2 == [1,2,3,4])\n",
    "assert np.all(mat.shape == (2,2))\n",
    "assert np.all(mat == [[1,2],[3,4]])"
   ]
  },
  {
   "cell_type": "markdown",
   "id": "17598b7c-697e-473b-9b25-dbcee096a3a2",
   "metadata": {},
   "source": [
    "Note that the total number of elements must remain unchanged. The matrix `mat` originally has shape (2, 2) with a total of 4 elements, and the latter is a one-dimensional array with shape (4,), which again has a total of 4 elements. Attempting to reshape when there is a mismatch in the total number of elements will result in a `ValueError`."
   ]
  },
  {
   "cell_type": "markdown",
   "id": "b9af0eb6-5198-40fe-82f8-e6649e4211c0",
   "metadata": {},
   "source": [
    "Note that the `numpy.ndarray.reshape` method returns either a new view view object or a copy, depending on [the `order` and `copy` arguments](https://numpy.org/doc/stable/reference/generated/numpy.reshape.html). In the above code, `mat2` is a reshaped view of `mat`: therefore"
   ]
  },
  {
   "cell_type": "code",
   "execution_count": 21,
   "id": "4d4b9c67-cc98-41ee-951b-df39d3ef9502",
   "metadata": {},
   "outputs": [],
   "source": [
    "mat[0,1] = 10\n",
    "assert mat2[1] == 10"
   ]
  },
  {
   "cell_type": "markdown",
   "id": "56f1733f-703b-44e3-bb4d-10eb9b85231a",
   "metadata": {},
   "source": [
    "## Matrices"
   ]
  },
  {
   "cell_type": "markdown",
   "id": "b5d49742-db2f-4397-a3a5-b6a9f42e4933",
   "metadata": {},
   "source": [
    "NumPy arrays also serve as matrices, which are fundamental in mathematics and computational programming. A matrix is simply a two-dimensional array."
   ]
  },
  {
   "cell_type": "markdown",
   "id": "9cc67573-2fec-401d-a3ce-cda182a06a45",
   "metadata": {},
   "source": [
    "A matrix with $m$ rows and $n$ columns is usually described as an $m \\times n$ matrix. A matrix that has the same number of rows as columns is said to be a *square matrix*."
   ]
  },
  {
   "cell_type": "code",
   "execution_count": 22,
   "id": "57f05513-ee6c-4c02-b880-7cee88ea3f2c",
   "metadata": {},
   "outputs": [],
   "source": [
    "A = np.arange(15).reshape(3,5)\n",
    "assert np.all(A == [\n",
    "    [ 0, 1, 2, 3, 4],\n",
    "    [ 5, 6, 7, 8, 9],\n",
    "    [10,11,12,13,14]\n",
    "])\n",
    "assert A.ndim == 2                  # two-dimensional\n",
    "assert np.all(A.shape == (3,5))     # 3 rows, 5 columns"
   ]
  },
  {
   "cell_type": "markdown",
   "id": "f7b37fe2-b300-47b3-ac76-ecdd956f7e89",
   "metadata": {},
   "source": [
    "The *identity matrix* (of size $n$) is the $n \\times n$ matrix where the $(i,i)$-th entry is 1, and the $(i,j)$-th entry is zero for $i \\neq j$."
   ]
  },
  {
   "cell_type": "code",
   "execution_count": 23,
   "id": "5e8a4bd4-b292-42d6-be9a-2fba996c5c82",
   "metadata": {},
   "outputs": [],
   "source": [
    "I3 = np.eye(3)\n",
    "assert np.all(I3 == [\n",
    "    [1,0,0],\n",
    "    [0,1,0],\n",
    "    [0,0,1]\n",
    "])"
   ]
  },
  {
   "cell_type": "markdown",
   "id": "770dc414-0296-4fbc-a934-c0c40a826bf8",
   "metadata": {},
   "source": [
    "### Basic methods"
   ]
  },
  {
   "cell_type": "markdown",
   "id": "6d63d798-d563-4c97-b939-93da9db78086",
   "metadata": {},
   "source": [
    "The *transpose* of a matrix is a matrix where rows and columns are interchanged.\n",
    "\n",
    "- the `numpy.ndarray.transpose` method\n",
    "- the `T` property of the `numpy.ndarray` object"
   ]
  },
  {
   "cell_type": "code",
   "execution_count": 24,
   "id": "3856e508-f5a9-49fb-a24b-7f6be5358dbf",
   "metadata": {},
   "outputs": [],
   "source": [
    "a = A.transpose()\n",
    "assert np.all(a.shape == (5,3))    # 5 rows, 3 columns\n",
    "assert np.all(a == [\n",
    "    [0,5,10],\n",
    "    [1,6,11],\n",
    "    [2,7,12],\n",
    "    [3,8,13],\n",
    "    [4,9,14]\n",
    "])\n",
    "assert np.all(a == A.T)"
   ]
  },
  {
   "cell_type": "markdown",
   "id": "2a5a4f11-1af0-49f7-8c95-23945123b06e",
   "metadata": {},
   "source": [
    "The *trace* of a matrix is the sum of the diagonal elements.\n",
    "\n",
    "$$\n",
    "\\begin{aligned}\n",
    "\\text{trace}(B) &= \\sum_{i=1}^{n} b_{i,i} \\\\\n",
    "&= 0 + 4 + 8 = 12\n",
    "\\end{aligned}\n",
    "$$"
   ]
  },
  {
   "cell_type": "code",
   "execution_count": 25,
   "id": "a7557ec1-8abb-45ac-b6f0-b43982ed7f68",
   "metadata": {},
   "outputs": [],
   "source": [
    "B = np.arange(9).reshape(3,3)\n",
    "assert np.all(B == [\n",
    "    [0,1,2],\n",
    "    [3,4,5],\n",
    "    [6,7,8]\n",
    "])\n",
    "assert B.trace() == 12"
   ]
  },
  {
   "cell_type": "markdown",
   "id": "6e6f84f8-c825-4e8d-938c-2d653b7e1207",
   "metadata": {},
   "source": [
    "### Matrix multiplication"
   ]
  },
  {
   "cell_type": "markdown",
   "id": "78c7a051-3ec2-4fe4-aadd-767a774da290",
   "metadata": {},
   "source": [
    "Formally, if $A$ is an $l \\times m$ matrix, and $B$ is an $m \\times n$ matrix, say\n",
    "\n",
    "$$\n",
    "A_{l,m} = \\begin{pmatrix}\n",
    "  a_{1,1} & a_{1,2} & \\cdots & a_{1,m} \\\\\n",
    "  a_{2,1} & a_{2,2} & \\cdots & a_{2,m} \\\\\n",
    "  \\vdots  & \\vdots  & \\ddots & \\vdots  \\\\\n",
    "  a_{l,1} & a_{l,2} & \\cdots & a_{l,m}\n",
    "\\end{pmatrix}\n",
    "\\text{ and }\n",
    "B_{m,n} = \\begin{pmatrix}\n",
    "  b_{1,1} & b_{1,2} & \\cdots & b_{1,n} \\\\\n",
    "  b_{2,1} & b_{2,2} & \\cdots & b_{2,n} \\\\\n",
    "  \\vdots  & \\vdots  & \\ddots & \\vdots  \\\\\n",
    "  b_{m,1} & b_{m,2} & \\cdots & b_{m,n}\n",
    "\\end{pmatrix}\n",
    "$$\n",
    "\n",
    "then the matrix product $C$ of $A$ and $B$ is an $l \\times n$ matrix whose $(p,q)$-th entry is given by\n",
    "\n",
    "$$\n",
    "C_{p,q} = \\sum_{i=1}^{m}a_{p,i}b_{i,q}\n",
    "$$\n",
    "\n",
    "Note that the number of columns of the first matrix must match the number of rows of the second matrix in order for matrix multiplication to be defined."
   ]
  },
  {
   "cell_type": "markdown",
   "id": "726203b9-9761-4438-8675-42d529b6d820",
   "metadata": {},
   "source": [
    "Python has an operator reserved for matrix multiplication `@`:"
   ]
  },
  {
   "cell_type": "code",
   "execution_count": 26,
   "id": "64e2011d-1d92-40e8-9277-a50d1ca557ca",
   "metadata": {},
   "outputs": [],
   "source": [
    "A = np.array([[ 1, 2],[ 3, 4]])\n",
    "B = np.array([[-1, 1],[ 0, 1]])"
   ]
  },
  {
   "cell_type": "code",
   "execution_count": 27,
   "id": "db81bd76-af54-4df7-ad8c-0e4d21acc585",
   "metadata": {},
   "outputs": [],
   "source": [
    "assert np.all( A @ B == [\n",
    "    [-1, 3],\n",
    "    [-3, 7]\n",
    "])"
   ]
  },
  {
   "cell_type": "markdown",
   "id": "f3e8dc75-b1be-4c02-a13b-4aa69dd7c9d0",
   "metadata": {},
   "source": [
    "Matrix multiplication is not *commutative*."
   ]
  },
  {
   "cell_type": "code",
   "execution_count": 28,
   "id": "da3202a7-16c9-4cba-8b97-1e9f7357664a",
   "metadata": {},
   "outputs": [],
   "source": [
    "assert np.all( B @ A == [\n",
    "    [ 2, 2],\n",
    "    [ 3, 4]\n",
    "])"
   ]
  },
  {
   "cell_type": "markdown",
   "id": "69ebf9b2-c1dc-4832-8b0b-5f3f0139feb3",
   "metadata": {},
   "source": [
    "Matrix multiplication is fundamentally different from the component-wise multiplication of array `*`:"
   ]
  },
  {
   "cell_type": "code",
   "execution_count": 29,
   "id": "6cdb7c51-90dc-4a23-bdc4-249969b6d53e",
   "metadata": {},
   "outputs": [],
   "source": [
    "assert np.all( A * B == [\n",
    "    [-1, 2],\n",
    "    [ 0, 4]\n",
    "])\n",
    "assert np.all( B * A == A * B )"
   ]
  },
  {
   "cell_type": "markdown",
   "id": "76d3ab66-e1a3-401a-ab96-fa1d0d48986a",
   "metadata": {},
   "source": [
    "The *identity matrix* of size $n$ is the $n \\times n$ square matrix with ones on the main diagonal and zeros elsewhere. When $A$ is an $m \\times n$ matrix, it is a property of matrix multiplication that\n",
    "\n",
    "$$\n",
    "I_{m} A = A I_{n} = A\n",
    "$$"
   ]
  },
  {
   "cell_type": "code",
   "execution_count": 30,
   "id": "c93f22e7-9756-4688-a146-11fb28f72d02",
   "metadata": {},
   "outputs": [],
   "source": [
    "A = np.arange(6).reshape(2,3)\n",
    "I2 = np.eye(2)\n",
    "assert np.all( A == I2 @ A )\n",
    "I3 = np.eye(3)\n",
    "assert np.all( A == A @ I3 )"
   ]
  },
  {
   "cell_type": "markdown",
   "id": "8691afdc-48d7-44aa-a268-112a4b7733e8",
   "metadata": {},
   "source": [
    "### Determinants and inverses"
   ]
  },
  {
   "cell_type": "markdown",
   "id": "088a165f-04b7-4ef6-82f7-8e5ed263bbd2",
   "metadata": {},
   "source": [
    "A square matrix that has a non-zero determinant has a unique inverse, which translates to unique solutions of certain systems of equations."
   ]
  },
  {
   "cell_type": "markdown",
   "id": "cbd82612-97fc-4a3c-8260-7f936897bf6d",
   "metadata": {},
   "source": [
    "For a $2 \\times 2$ matrix\n",
    "\n",
    "$$\n",
    "A = \\begin{pmatrix}\n",
    "  a_{11} & a_{12} \\\\\n",
    "  a_{21} & a_{22}\n",
    "\\end{pmatrix}\n",
    "$$\n",
    "\n",
    "the determinant of $A$ is defined by the formula\n",
    "\n",
    "$$\n",
    "\\text{det}(A) = \\begin{vmatrix}\n",
    "  a_{11} & a_{12} \\\\\n",
    "  a_{21} & a_{22}\n",
    "\\end{vmatrix}\n",
    "= a_{11} a_{22} - a_{12} a_{21}\n",
    "$$"
   ]
  },
  {
   "cell_type": "markdown",
   "id": "9a4144e7-72f3-4939-b2aa-49cd0de9630d",
   "metadata": {},
   "source": [
    "For a $3 \\times 3$ matrix\n",
    "\n",
    "$$\n",
    "A = \\begin{pmatrix}\n",
    "  a_{11} & a_{12} & a_{13} \\\\\n",
    "  a_{21} & a_{22} & a_{23} \\\\\n",
    "  a_{31} & a_{32} & a_{33}\n",
    "\\end{pmatrix}\n",
    "$$\n",
    "\n",
    "the determinant of $A$ is\n",
    "\n",
    "$$\n",
    "\\text{det}(A)\n",
    "= a_{11} a_{22} a_{33} - a_{11} a_{23} a_{32}\n",
    "+ a_{12} a_{23} a_{31} - a_{12} a_{21} a_{33}\n",
    "+ a_{13} a_{21} a_{32} - a_{13} a_{22} a_{31}\n",
    "$$"
   ]
  },
  {
   "cell_type": "markdown",
   "id": "88a034cb-831d-48bc-b2d1-ce170bdf57d7",
   "metadata": {},
   "source": [
    "For a general $n$-dimensional square matrix, refer to [Determinant at Wolfram](https://mathworld.wolfram.com/Determinant.html) and [Finding the determinant at SciPy](https://docs.scipy.org/doc/scipy/tutorial/linalg.html#finding-the-determinant)."
   ]
  },
  {
   "cell_type": "markdown",
   "id": "ac721f88-7284-46ec-9572-2bbbe1378822",
   "metadata": {},
   "source": [
    "The NumPy routine for computing the determinant of a matrix is `det` in the package `np.linalg`, which contains many routines for *linear algebra*.\n",
    "\n",
    "> The `np.linalg.det` can carry a floating-point rounding error."
   ]
  },
  {
   "cell_type": "markdown",
   "id": "7f420fb1-4c8c-4fb9-9853-a2d1046dcb2d",
   "metadata": {},
   "source": [
    "The SciPy also offers a `linalg` module that extends NumPy's `linalg`. The SciPy's `det` may be preferable if speed is important.\n",
    "\n",
    "- [SciPy's linalg](https://docs.scipy.org/doc/scipy/tutorial/linalg.html) contains all the functions in `numpy.linalg`. plus some other more advanced ones not contained in `numpy.linalg`.\n",
    "- Another advantage of using `scipy.linalg` over `numpy.linalg` is that it is always compiled with BLAS/LAPACK support, while for NumPy this is optional. Therefore, the SciPy version might be faster depending on how NumPy was installed.\n",
    "- Therefore, unless you don’t want to add `scipy` as a dependency to your `numpy` program, use `scipy.linalg` instead of `numpy.linalg`."
   ]
  },
  {
   "cell_type": "code",
   "execution_count": 31,
   "id": "297586ff-1f04-4b14-8527-1a5733b249bc",
   "metadata": {},
   "outputs": [],
   "source": [
    "import numpy as np\n",
    "import scipy as sp\n",
    "A = np.array([[ 1, 2],[ 3, 4]])\n",
    "assert sp.linalg.det(A) == -2.   # det(A) = 1*4 - 2*3 = -2"
   ]
  },
  {
   "cell_type": "markdown",
   "id": "b12e68a8-8616-4673-add1-3a192c995b62",
   "metadata": {},
   "source": [
    "The *inverse* of an $n \\times n$ matrix $A$ is the (necessarily unique) $n \\times n$ matrix $B$, such that $A B = B A = I$, where $I$ denotes the $n \\times n$ identity matrix. When $A$ has an inverse, it is customary to denote it by $A^{-1}$.\n",
    "\n",
    "$$\n",
    "A A^{-1} = A^{-1} A = I\n",
    "$$\n",
    "\n",
    "> There will be a floating-point error in these computation due to the way that matrix inverses are computed."
   ]
  },
  {
   "cell_type": "code",
   "execution_count": 32,
   "id": "c81e57c9-cb39-4315-9b57-8ad606deb9ae",
   "metadata": {},
   "outputs": [],
   "source": [
    "Ainv = sp.linalg.inv(A)\n",
    "assert np.all(np.isclose(Ainv, [[-2.,1.],[1.5,-0.5]]))\n",
    "assert np.any(Ainv != [[-2.,1.],[1.5,-0.5]])   # due to a floating-point error"
   ]
  },
  {
   "cell_type": "code",
   "execution_count": 33,
   "id": "2329390e-69c9-4ff7-a0ea-0518533a0ff5",
   "metadata": {},
   "outputs": [],
   "source": [
    "I = np.eye(2)\n",
    "assert np.all(np.isclose(A @ Ainv, I))\n",
    "assert np.any(A @ Ainv != I)    # due to a floating-point error\n",
    "assert np.all(np.isclose(Ainv @ A, I))\n",
    "assert np.any(Ainv @ A != I)    # due to a floating-point error"
   ]
  },
  {
   "cell_type": "markdown",
   "id": "773be02e-2d81-43eb-a82f-f7f6b944fc8a",
   "metadata": {},
   "source": [
    "A [matrix function](https://docs.scipy.org/doc/scipy/tutorial/linalg.html#matrix-functions) can be defined using Taylor series expansion for the square matrix $A$ as\n",
    "\n",
    "$$\n",
    "f(A) = \\sum_{k=0}^{\\infty} \\frac{f^{(k)}(0)}{k!} A^k\n",
    "$$\n",
    "\n",
    "`scipy.linalg` contains matrix functions such as\n",
    "\n",
    "| method | description |\n",
    "|--------|-------------|\n",
    "| `expm` | the exponential function for matrices         |\n",
    "| `logm` | the logarithm function for matrices           |\n",
    "| `sinm` | the trigonometric function `sin` for matrices |\n",
    "| `cosm` | the trigonometric function `cos` for matrices |\n",
    "| `tanm` | the trigonometric function `tan` for matrices |\n",
    "\n",
    "> Matrix functions are not the same as the standard `exp`. `log`, `sin`, `cos`, and `tan` functions in the base NumPy package, which apply the corresponding function on an element by element basis."
   ]
  },
  {
   "cell_type": "markdown",
   "id": "a04de940-4707-44d6-8864-ff6dc2283d86",
   "metadata": {},
   "source": [
    "### Systems of equations"
   ]
  },
  {
   "cell_type": "markdown",
   "id": "9639e4eb-884a-4d5b-b682-452d8019fc2d",
   "metadata": {},
   "source": [
    "A system of linear equations can be written as\n",
    "\n",
    "$$\n",
    "\\begin{equation}\n",
    "    \\begin{array}{c}\n",
    "    a_{1,1} x_1 & + & a_{1,2} x_2 & + & \\cdots & + & a_{1,n} x_n & = & b_1 \\\\\n",
    "    a_{2,1} x_1 & + & a_{2,2} x_2 & + & \\cdots & + & a_{2,n} x_n & = & b_2 \\\\\n",
    "                &   &             &   &        &   &           & \\vdots & \\\\\n",
    "    a_{n,1} x_1 & + & a_{n,2} x_2 & + & \\cdots & + & a_{n,n} x_n & = & b_n\n",
    "    \\end{array}\n",
    "\\end{equation}\n",
    "$$\n",
    "\n",
    "where\n",
    "- $1 \\lt n$\n",
    "- $a_{i,j}$ and $b_i$ are known values\n",
    "\n",
    "and the $x_i$ values are the unknown values that we wish to find."
   ]
  },
  {
   "cell_type": "markdown",
   "id": "0e6f2a89-5b1c-4b32-9260-ad0fafefd3f1",
   "metadata": {},
   "source": [
    "Let\n",
    "- $A$ be the matrix containing the coefficients taken from the system of equations,\n",
    "- $x$ be the column vector containing $x_i$ values, and\n",
    "- $b$ be the column vector containing $b_i$ values\n",
    "\n",
    "as\n",
    "\n",
    "$$\n",
    "A = \\begin{pmatrix}\n",
    "  a_{1,1} & a_{1,2} & \\cdots & a_{1,n} \\\\\n",
    "  a_{2,1} & a_{2,2} & \\cdots & a_{2,n} \\\\\n",
    "  \\vdots  & \\vdots  & \\ddots & \\vdots  \\\\\n",
    "  a_{n,1} & a_{n,2} & \\cdots & a_{n,n} \n",
    "\\end{pmatrix}\n",
    "\\;\\text{,}\\;\n",
    "x = \\begin{pmatrix}\n",
    "  x_1 \\\\ x_2 \\\\ \\vdots \\\\ x_n\n",
    "\\end{pmatrix}\n",
    "\\;\\text{,}\\;\n",
    "b = \\begin{pmatrix}\n",
    "  b_1 \\\\ b_2 \\\\ \\vdots \\\\ b_n\n",
    "\\end{pmatrix}\n",
    "$$\n",
    "\n",
    "then we can rewrite the system of equations as the single matrix equation\n",
    "\n",
    "$$\n",
    "A x = b\n",
    "$$"
   ]
  },
  {
   "cell_type": "markdown",
   "id": "e942b285-e2a9-49e7-87e5-6e3721f9311b",
   "metadata": {},
   "source": [
    "To solve this matrix equation, we use the `solve` routine in the `linalg` module. For example, provided the following system of equation:\n",
    "\n",
    "$$\n",
    "\\begin{array}{r}\n",
    "  3 x_1 & - & 2 x_2 & + &   x_3 & = &  7 \\\\\n",
    "    x_1 & + &   x_2 & - & 2 x_3 & = & -4 \\\\\n",
    " -3 x_1 & - & 2 x_2 & + &   x_3 & = &  1\n",
    "\\end{array}\n",
    "$$"
   ]
  },
  {
   "cell_type": "code",
   "execution_count": 34,
   "id": "45271ad7-b0ca-4993-bd49-1b7d2d6544bb",
   "metadata": {},
   "outputs": [],
   "source": [
    "A = np.array([[3,-2,1],[1,1,-2],[-3,-2,1]])\n",
    "b = np.array([7,-4,1])\n",
    "x = sp.linalg.solve(A,b)\n",
    "assert np.all(np.isclose(A @ x, b))\n",
    "# assert np.all((A @ x) != b)\n",
    "assert np.all(np.isclose(x, [1,-1,2]))\n",
    "assert np.all(x != [1,-1,2])"
   ]
  },
  {
   "cell_type": "markdown",
   "id": "d5ede855-c070-44a4-95c4-f0b7e57edf84",
   "metadata": {},
   "source": [
    "Recall that\n",
    "\n",
    "$$\n",
    "\\text{the system has a unique solution} \\iff\n",
    "\\text{the determinant of this matrix A is not zero}\n",
    "$$\n",
    "\n",
    "If the determinant is zero, one of two things happens:\n",
    "\n",
    "- the system can have no solution (the system is *inconsistent*)\n",
    "- the system can infinitely many solutions (the system is *under-specified*)\n",
    "\n",
    "For example, the following system is inconsistent:\n",
    "\n",
    "$$\n",
    "\\begin{array}{r}\n",
    "    x & + &   y & = & 1 \\\\\n",
    "  2 x & + & 2 y & = & 1\n",
    "\\end{array}\n",
    "$$\n",
    "\n",
    "The following system is consistent but under-specified, therefore have no unique solution:\n",
    "\n",
    "$$\n",
    "\\begin{array}{r}\n",
    "    x & + &   y & = & 1 \\\\\n",
    "  2 x & + & 2 y & = & 2\n",
    "\\end{array}\n",
    "$$\n",
    "\n",
    "The coefficient matrix does not need to be square for the system to be solvable. For example, if there are more equations than there are unknown values (a coefficient matrix has more rows than columns). Such a system is said to be *over-specified* and, provided that it is consistent, it will have a solution.\n",
    "\n",
    "If there are fewer equations than there are unknown values, then the system is said to be under-specified. Under-specified systems of equations generally have infinitely many solutions if they are consistent, since there is not enough information to uniquely specify all the unknown values."
   ]
  },
  {
   "cell_type": "markdown",
   "id": "dcbb106d-502a-4ab9-90a8-919d11c7ad78",
   "metadata": {},
   "source": [
    "### Eigenvalues and eigenvectors"
   ]
  },
  {
   "cell_type": "markdown",
   "id": "7892eb38-1cdf-4f31-8c1b-d7206172c485",
   "metadata": {},
   "source": [
    "Consider the matrix equation $A \\mathbf{x} = \\lambda \\mathbf{x}$, where\n",
    "\n",
    "- $A$ is a square $(n \\times n)$ matrix\n",
    "- $\\mathbf{x}$ is a vector $\\neq \\{ \\mathbf{0} \\}$\n",
    "- $\\lambda$ is a number\n",
    "\n",
    "If there is an $\\lambda$ and an $\\mathbf{x}$ that solves this equation, then\n",
    "\n",
    "- $\\lambda$ is called the *eignevalue* (/ˈaɪɡən-/)\n",
    "- $\\mathbf{x}$ is called the *eigenvector*\n",
    "\n",
    "It is perfectly possible for a matrix with only real entries to have complex eigenvalues and eigenvectors.\n",
    "\n",
    "- $\\lambda \\in \\mathbb{C}$\n",
    "- $\\mathbf{x} \\in \\mathbb{C}^n \\setminus \\{ \\mathbf{0} \\}$"
   ]
  },
  {
   "cell_type": "markdown",
   "id": "17daaf85-e3d7-4756-a92a-0ecb61799641",
   "metadata": {},
   "source": [
    "For example, take the following matrix\n",
    "\n",
    "$$\n",
    "A = \\begin{pmatrix}\n",
    "   3 & -1 &  4 \\\\\n",
    "  -1 &  0 & -1 \\\\\n",
    "   4 & -1 &  2\n",
    "\\end{pmatrix}\n",
    "$$\n",
    "\n",
    "Use the `eig` routine in the `linalg` modules to find the eigenvalues and eigenvectos of a square matrix."
   ]
  },
  {
   "cell_type": "code",
   "execution_count": 35,
   "id": "e634c2a6-7b0a-45c9-b88b-6bdf9b9bd920",
   "metadata": {},
   "outputs": [],
   "source": [
    "A = np.array([\n",
    "    [ 3,-1, 4],\n",
    "    [-1, 0,-1],\n",
    "    [ 4,-1, 2]\n",
    "])\n",
    "v, B = sp.linalg.eig(A)"
   ]
  },
  {
   "cell_type": "code",
   "execution_count": 36,
   "id": "4b6ed196-5886-4a55-aff2-ca916560f173",
   "metadata": {},
   "outputs": [
    {
     "data": {
      "text/plain": [
       "array([ 6.82315616+0.j, -1.53711415+0.j, -0.28604201+0.j])"
      ]
     },
     "execution_count": 36,
     "metadata": {},
     "output_type": "execute_result"
    }
   ],
   "source": [
    "v"
   ]
  },
  {
   "cell_type": "code",
   "execution_count": 37,
   "id": "04d19e88-6c72-4a0c-9358-708fd74f753c",
   "metadata": {},
   "outputs": [
    {
     "data": {
      "text/plain": [
       "array([[ 0.73271846, -0.65131465,  0.19726352],\n",
       "       [-0.20260301,  0.06794858,  0.97690072],\n",
       "       [ 0.64967352,  0.75575937,  0.08217113]])"
      ]
     },
     "execution_count": 37,
     "metadata": {},
     "output_type": "execute_result"
    }
   ],
   "source": [
    "B"
   ]
  },
  {
   "cell_type": "markdown",
   "id": "e004f83c-5b2a-4bbc-b1c4-f589d200396f",
   "metadata": {},
   "source": [
    "The `eig` routine returns a pair $(v, B)$ where\n",
    "\n",
    "- $v$ is a one-dimensional array containing the eigenvalues\n",
    "- $B$ is a two-dimensional array whose columns are the corresponding eigenvectors\n",
    "\n",
    "We can extract the eigenvector for an eigenvalue with the form of `B[:i]`:"
   ]
  },
  {
   "cell_type": "code",
   "execution_count": 38,
   "id": "a2624b35-fc04-4a02-9f5d-bbeaf7878b3d",
   "metadata": {},
   "outputs": [
    {
     "data": {
      "text/plain": [
       "np.complex128(6.823156164525969+0j)"
      ]
     },
     "execution_count": 38,
     "metadata": {},
     "output_type": "execute_result"
    }
   ],
   "source": [
    "v[0]  # the first eigenvalue"
   ]
  },
  {
   "cell_type": "code",
   "execution_count": 39,
   "id": "56bd4b72-a311-45c4-981a-a829ef7bf872",
   "metadata": {},
   "outputs": [
    {
     "data": {
      "text/plain": [
       "array([ 0.73271846, -0.20260301,  0.64967352])"
      ]
     },
     "execution_count": 39,
     "metadata": {},
     "output_type": "execute_result"
    }
   ],
   "source": [
    "B[:,0]   # the eigenvector that corresponds the first eigenvalue"
   ]
  },
  {
   "cell_type": "markdown",
   "id": "80c54d24-01ba-4920-8b7e-52a044b88591",
   "metadata": {},
   "source": [
    "One key application of eigenvalues and eigenvectors is in *principle component analysis*, which is a key technique for reducing a large, complex dataset to better understand the internal structure.\n",
    "\n",
    "We can only compute eigenvalues and eigenvectors for square matrices; for non-square matrices, the definition does not make sense. There is a generalization of eigenvalue, and eigenvalues to non-square matrices is called *singular values*."
   ]
  },
  {
   "cell_type": "markdown",
   "id": "ada2fd97-6af7-4a94-ad42-b26f5bf6a3d1",
   "metadata": {},
   "source": [
    "#### Norm"
   ]
  },
  {
   "cell_type": "markdown",
   "id": "dce6276b-4a41-49fc-bf2c-07024fe9c612",
   "metadata": {},
   "source": [
    "We can check that these values do indeed satisfy the definition of an eigenvalue/eigenvector pair as follows:"
   ]
  },
  {
   "cell_type": "code",
   "execution_count": 40,
   "id": "119b6b95-cb6d-4f50-b9b1-e33bd686f4a4",
   "metadata": {},
   "outputs": [],
   "source": [
    "l0 = v[0]\n",
    "x0 = B[:,0]\n",
    "assert np.isclose(0, sp.linalg.norm( A @ x0 - l0 * x0 ))\n",
    "assert 0 != sp.linalg.norm( A @ x0 - l0 * x0 )"
   ]
  },
  {
   "cell_type": "markdown",
   "id": "39b8a846-e60b-48e4-bcf0-2de82122c657",
   "metadata": {},
   "source": [
    "The `norm` computed here represent the \"distance\" between $A \\mathbf{x}$ and $\\lambda \\mathbf{x}$. The fact that this is not zero is likely due to floating-point precision error.\n",
    "\n",
    "- The [norm](https://mathworld.wolfram.com/Norm.html) of a mathematical object is a quantity that in some (possibly abstract) sense describes the length, size, or extent of the object.\n",
    "- Norms exist for several kinds of mathematical objects, such as complex numbers (complex modulus),  vectors (vector norms), and matrices (matrix norms).\n",
    "\n",
    "For example, given an $n$-dimensional vector $\\mathbf{x}$, a general [vector norm](https://mathworld.wolfram.com/VectorNorm.html) $| \\mathbf{x} |$, is a non-negative norm defined such that:\n",
    "- $| \\mathbf{x} | \\geq 0$\n",
    "- $| \\mathbf{x} | = 0 \\iff \\mathbf{x} = \\mathbf{0}$\n",
    "- $| k \\: \\mathbf{x} | = | k | \\: | \\mathbf{x} |$ for any scalar $k$\n",
    "- $| \\mathbf{x} + \\mathbf{y} | \\leq | \\mathbf{x} | + | \\mathbf{y} |$\n",
    "\n",
    "The most commonly encountered vector norm (often simply called \"the norm\" of a vector, or sometimes the magnitude of a vector) is the L2-norm, given by\n",
    "\n",
    "$$\n",
    "| x |_2 = | x | = \\sqrt{x_1^2 + x_2^2 + \\cdots + x_n^2}\n",
    "$$"
   ]
  },
  {
   "cell_type": "markdown",
   "id": "812a9350-3a2d-4b4d-9feb-09c7c48a8f94",
   "metadata": {},
   "source": [
    "### Sparse matrices"
   ]
  },
  {
   "cell_type": "markdown",
   "id": "f6de69ef-0bda-443e-ac37-d4f0f49e8b39",
   "metadata": {},
   "source": [
    "A matrix is a *sparse matrix* if a large number of the elements are zero."
   ]
  },
  {
   "cell_type": "markdown",
   "id": "5a30e777-7a1e-4144-b47d-7f14ba988055",
   "metadata": {},
   "source": [
    "The `scipy.sparse` [module](https://docs.scipy.org/doc/scipy/tutorial/sparse.html) contains the following formats, each with their own distinct advantages and disadvantages:\n",
    "\n",
    "- Block Sparse Row (BSR) arrays `scipy.sparse.bsr_array`, which are most appropriate when the parts of the array with data occur in contiguous blocks.\n",
    "- Coordinate (COO) arrays `scipy.sparse.coo_array`, which provide a simple way to construct sparse arrays and modify them in place. COO can also be quickly converted into other formats, such CSR, CSC, or BSR.\n",
    "- Compressed Sparse Row (CSR) arrays `scipy.sparse.csr_array`, which are most useful for fast arithmetic, vector products, and slicing by row.\n",
    "- Compressed Sparse Column (CSC) arrays `scipy.sparse.csc_array`, which are most useful for fast arithmetic, vector products, and slicing by column.\n",
    "- Diagonal (DIA) arrays `scipy.sparse.dia_array`, which are useful for efficient storage and fast arithmetic so long as the data primarily occurs along diagonals of the array.\n",
    "- Dictionary of Keys (DOK) arrays `scipy.sparse.dok_array`, which are useful for fast construction and single-element access.\n",
    "- List of Lists (LIL) arrays `scipy.sparse.lil_array`, which are useful for fast construction and modification of sparse arrays."
   ]
  },
  {
   "cell_type": "markdown",
   "id": "0f4768be-03e1-4dad-a0b0-c20fa6781845",
   "metadata": {},
   "source": [
    "All formats of `scipy.sparse` arrays can be constructed directly from a `numpy.ndarray`."
   ]
  },
  {
   "cell_type": "code",
   "execution_count": 41,
   "id": "c79fd498-b46e-4218-a18e-a78070a7fcf4",
   "metadata": {},
   "outputs": [],
   "source": [
    "dense = np.array([\n",
    "    [1, 0, 0, 2],\n",
    "    [0, 4, 1, 0],\n",
    "    [0, 0, 5, 0]\n",
    "])\n",
    "coo = sp.sparse.coo_array(dense)\n",
    "assert np.all(dense == coo.todense())"
   ]
  },
  {
   "cell_type": "markdown",
   "id": "67a4d9b4-ba25-4829-bf0a-194a78c525e5",
   "metadata": {},
   "source": [
    "However, some sparse formats can be constructed in different ways, too. Each sparse array format has different strengths, and these strengths are documented in each class. For example, one of the most common methods for constructing sparse arrays is to build a sparse array from the individual row, column, and data values. For our array from before:"
   ]
  },
  {
   "cell_type": "code",
   "execution_count": 42,
   "id": "b9ac8f41-070b-48ef-b112-9447a11a60d6",
   "metadata": {},
   "outputs": [],
   "source": [
    "row = [ 0, 0, 1, 1, 2]\n",
    "col = [ 0, 3, 1, 2, 2]\n",
    "dat = [ 1, 2, 4, 1, 5]\n",
    "csr = sp.sparse.csr_array((dat, (row, col)))\n",
    "assert np.all(dense == csr.todense())"
   ]
  },
  {
   "cell_type": "markdown",
   "id": "be87f840-172a-4f6a-9574-670eb68bba2b",
   "metadata": {},
   "source": [
    "The `scipy.linalg.sparse` modules also contains many of the routines that can be found in the `linalg` module of NumPy (or SciPy) that accept sparse matrices instead of full NumPy arrays, such as `eig` and `inv`. "
   ]
  },
  {
   "cell_type": "markdown",
   "id": "dc2202bd-d3e9-401b-ae3c-468e8a3f71a2",
   "metadata": {},
   "source": [
    "## Summary"
   ]
  },
  {
   "cell_type": "markdown",
   "id": "f9773f59-b691-424a-8ca3-95d7ed1c0926",
   "metadata": {},
   "source": [
    "Python offers built-in support for mathematics with some basic numeral types, arithmetic, and basic mathematical functions. However, for more serious computations involving large arrays of numerical values, you should use the Numpy and SciPy packages.\n",
    "\n",
    "- NumPy provides high-performance array types and basic routines\n",
    "- SciPy provides more specific tools for solving equations and working with sparse matrices"
   ]
  },
  {
   "cell_type": "markdown",
   "id": "1d0fbb28-36d1-474b-adf2-95c5bdb91ae1",
   "metadata": {},
   "source": [
    "[SciPy](https://docs.scipy.org/doc/scipy-1.15.0/tutorial/index.html) is a collection of mathematical algorithms and convenience functions built on NumPy. The [NumPy linear algebrahttps://numpy.org/doc/stable/reference/routines.linalg.html]() functions rely on BLAS and LAPACK to provide efficient low level implementations of standard linear algebra algorithms.\n",
    "\n",
    "- The [BLAS (Basic Linear Algebra Subprograms)](https://www.netlib.org/blas/) are routines that provide standard building blocks for performing basic vector and matrix operations.\n",
    "  - BLAS originated as a Fortran library in 1979 and its interface was standardized by the BLAS Technical Forum. ([wikipedia](https://en.wikipedia.org/wiki/Basic_Linear_Algebra_Subprograms))\n",
    "- The [LAPACK (Linear Algebra PACKage)](https://www.netlib.org/lapack/) is written in Fortran 90 and provides routines for solving systems of simultaneous linear equations, least-squares solutions of linear systems of equations, eigenvalue problems, and singular value problems.\n",
    "  - LAPACK routines are written so that as much as possible of the computation is performed by calls to the Basic Linear Algebra Subprograms (BLAS). LAPACK is designed at the outset to exploit the Level 3 BLAS &mdash; a set of specifications for Fortran subprograms that do various types of matrix multiplication and the solution of triangular systems with multiple right-hand sides.\n",
    "  - LAPACK was initially released in 1992. ([wikipedia](https://en.wikipedia.org/wiki/LAPACK))"
   ]
  }
 ],
 "metadata": {
  "kernelspec": {
   "display_name": "Python 3 (ipykernel)",
   "language": "python",
   "name": "python3"
  },
  "language_info": {
   "codemirror_mode": {
    "name": "ipython",
    "version": 3
   },
   "file_extension": ".py",
   "mimetype": "text/x-python",
   "name": "python",
   "nbconvert_exporter": "python",
   "pygments_lexer": "ipython3",
   "version": "3.13.1"
  }
 },
 "nbformat": 4,
 "nbformat_minor": 5
}

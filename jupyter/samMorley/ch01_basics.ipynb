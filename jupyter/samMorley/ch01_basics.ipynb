{
 "cells": [
  {
   "cell_type": "markdown",
   "id": "5552bdaf-5dca-4603-a9e3-f1be00791157",
   "metadata": {},
   "source": [
    "# Chapter 1. Basics"
   ]
  },
  {
   "cell_type": "markdown",
   "id": "61da310e-a3b2-46e4-8cb1-bae7e7095b89",
   "metadata": {},
   "source": [
    "## Python numerical types"
   ]
  },
  {
   "cell_type": "markdown",
   "id": "275ec0bd-d95e-4c97-af69-e7c8fddc06bc",
   "metadata": {},
   "source": [
    "### Decimal type\n",
    "\n",
    "For applications that require decimal digits with accurate arithmetic operations, use the `Decimal` type from the `decimal` module in the Python Standard Library:"
   ]
  },
  {
   "cell_type": "code",
   "execution_count": 1,
   "id": "1b3feb52-1c7b-4c25-a576-b51de63e7737",
   "metadata": {},
   "outputs": [],
   "source": [
    "from decimal import Decimal\n",
    "num1 = Decimal('1.1')\n",
    "num2 = Decimal('1.563')\n",
    "assert Decimal('2.663') == num1 + num2"
   ]
  },
  {
   "cell_type": "markdown",
   "id": "a210ac79-59ce-45f0-9350-0d583b8a5872",
   "metadata": {},
   "source": [
    "Certain numbers such as `0.1` cannot be represented exactly using a finite sum of powers of 2. `0.1` has a binary expansion `0.000110011...`, which does not terminate. Any floating-point representation of this number will therefore carry a small error."
   ]
  },
  {
   "cell_type": "code",
   "execution_count": 2,
   "id": "24f5f729-073c-4d58-9d8d-f081e007f56d",
   "metadata": {},
   "outputs": [],
   "source": [
    "assert 2.663 != 1.1 + 1.563"
   ]
  },
  {
   "cell_type": "markdown",
   "id": "ee5ef4ed-c53d-49fa-892e-0d9d2ed39b33",
   "metadata": {},
   "source": [
    "The `decimal` package also provides a `Context` object, which allows fine-grained control over the precision, display, and attributes of `Decimal` objects:"
   ]
  },
  {
   "cell_type": "code",
   "execution_count": 3,
   "id": "8ad504fa-ad6f-4454-a939-a2ba1e2f1c11",
   "metadata": {},
   "outputs": [],
   "source": [
    "assert Decimal('1.4641') == num1**4\n",
    "\n",
    "from decimal import localcontext\n",
    "with localcontext() as ctx:\n",
    "    ctx.prec = 3\n",
    "    assert Decimal('1.46') == num1**4"
   ]
  },
  {
   "cell_type": "markdown",
   "id": "53b377cd-17c8-457c-aa64-ad54be5a85b6",
   "metadata": {},
   "source": [
    "> When we set the precision to `3`, rather than the default `28`, we see that the fourth power of 1.1 is rounded to three significant figures."
   ]
  },
  {
   "cell_type": "markdown",
   "id": "da97f20e-0af9-40b6-882b-2a0f50e55dc7",
   "metadata": {},
   "source": [
    "This means that context can be freely modified inside the `with` block, and will be returned to the default at the end."
   ]
  },
  {
   "cell_type": "markdown",
   "id": "3f3b4113-f76f-4743-9d08-c8f6ed57148e",
   "metadata": {},
   "source": [
    "### Fraction type\n",
    "\n",
    "The `Fraction` type from the `fractions` module in the Python Standard Library, simply stores two integers (the numerator and the denominator), and arithmetic is performed using the basic rule for arithmetic of fractions."
   ]
  },
  {
   "cell_type": "code",
   "execution_count": 4,
   "id": "7c320cc0-2133-4374-a20b-d51924c91759",
   "metadata": {},
   "outputs": [],
   "source": [
    "from fractions import Fraction\n",
    "fr1 = Fraction(1, 3)\n",
    "fr2 = Fraction(1, 7)\n",
    "assert Fraction(10, 21) == fr1 + fr2\n",
    "assert Fraction(4, 21) == fr1 - fr2\n",
    "assert Fraction(1, 21) == fr1 * fr2\n",
    "assert Fraction(7, 3) == fr1 / fr2"
   ]
  },
  {
   "cell_type": "markdown",
   "id": "b2ca5920-8a0d-47b2-8b10-418ea4eba471",
   "metadata": {},
   "source": [
    "## Basic mathematical functions"
   ]
  },
  {
   "cell_type": "markdown",
   "id": "94c1083d-7c7f-4e55-8abb-5c09cfcc2af8",
   "metadata": {},
   "source": [
    "The `math` module in the Python Standard Library provides all of the standard mathematical functions, along with common constants and some utility functions:"
   ]
  },
  {
   "cell_type": "code",
   "execution_count": 5,
   "id": "782ae078-63bd-47b4-8094-d3320a55c93d",
   "metadata": {},
   "outputs": [],
   "source": [
    "import math\n",
    "assert 2.0 == math.sqrt(4)\n",
    "assert math.isclose(math.sin(math.pi/4), math.cos(math.pi/4))\n",
    "assert math.isclose(1.0, math.tan(math.pi/4))"
   ]
  },
  {
   "cell_type": "markdown",
   "id": "8d568d84-fb67-47ee-81ae-d29ad5c7a2d0",
   "metadata": {},
   "source": [
    "The `log` function in the `math` module performs logarithms.\n",
    "\n",
    "$$\n",
    "\\begin{aligned}\n",
    "y = \\log_b{x} &\\iff x = b^y\\\\\n",
    "y = \\ln{(x)} &\\iff x = e^y\n",
    "\\end{aligned}\n",
    "$$\n",
    "\n",
    "Where the constant $e$ is base of the natural logarithm, sometimes known as [Napier's constant](https://mathworld.wolfram.com/e.html). The constant can be accessed using `math.e`."
   ]
  },
  {
   "cell_type": "code",
   "execution_count": 6,
   "id": "60bc4a8b-336b-4df3-81c7-2eb7efb2bbf5",
   "metadata": {},
   "outputs": [],
   "source": [
    "assert math.log(10) == math.log(10, math.e)\n",
    "assert math.log(100, 10) == 2.0"
   ]
  },
  {
   "cell_type": "markdown",
   "id": "0eb8a16c-4b5b-4056-809d-33a3c0306cf1",
   "metadata": {},
   "source": [
    "In addition, the `math` contains various number of theoretic and combinatorial functions."
   ]
  },
  {
   "cell_type": "markdown",
   "id": "0f1d75f9-102b-4337-bf0c-f2ce2a247956",
   "metadata": {},
   "source": [
    "The `comb(n, k)` returns the number of ways to choose `k` items from a collection of `n` without repeats if order is not important. This number is sometimes written $\\displaystyle {^n}C_k = \\binom{n}{k} = \\frac{n!}{k!(n-k)!}$."
   ]
  },
  {
   "cell_type": "code",
   "execution_count": 7,
   "id": "0e2a2d92-683c-4617-9559-a584a402c6f4",
   "metadata": {},
   "outputs": [],
   "source": [
    "assert 10 == math.comb(5, 2)"
   ]
  },
  {
   "cell_type": "markdown",
   "id": "50e4036b-763e-466c-a507-fb502ddf8775",
   "metadata": {},
   "source": [
    "The `factorial(n)` returns the factorial\n",
    "$n! = n(n-1)(n-2)\\cdots 1$."
   ]
  },
  {
   "cell_type": "code",
   "execution_count": 8,
   "id": "1446f357-1341-47cd-ae7a-8186baadd3f7",
   "metadata": {},
   "outputs": [],
   "source": [
    "assert 120 == math.factorial(5)"
   ]
  },
  {
   "cell_type": "markdown",
   "id": "6854db33-399d-4575-aa18-4fe79b9f1261",
   "metadata": {},
   "source": [
    "There are also a number of functions for working with floating-point numbers. As `0.1` carries a small error, Python built-in function `sum` cannot return an accurate sum of values in an iterable, while `math.fsum` avoids loss of precision by tracking multiple intermediate partial sums."
   ]
  },
  {
   "cell_type": "code",
   "execution_count": 9,
   "id": "d22dfcc8-800b-4abf-a3ae-478317af17e2",
   "metadata": {},
   "outputs": [],
   "source": [
    "nums = [0.1]*10    # a list containing 0.1 ten items\n",
    "assert math.isclose(1.0, sum(nums))\n",
    "assert 1.0 == math.fsum(nums)"
   ]
  },
  {
   "cell_type": "markdown",
   "id": "5a69f4d2-a25f-41f7-837b-d2d7e9608803",
   "metadata": {},
   "source": [
    "The `math` module is a good choice if you need to apply a function to a relatively small collection of numbers. If you want to these functions to a large collection of data simultaneously, it is better to use their equivalents from the NumPy package, which are more efficient for working with arrays."
   ]
  },
  {
   "cell_type": "markdown",
   "id": "c496301d-b6df-4cbc-bbb4-cb676efdedcd",
   "metadata": {},
   "source": [
    "## NumPy arrays"
   ]
  },
  {
   "cell_type": "code",
   "execution_count": 10,
   "id": "d44f63b0-97d0-4bfc-bea3-51d0067b3b48",
   "metadata": {},
   "outputs": [],
   "source": [
    "import numpy as np"
   ]
  },
  {
   "cell_type": "markdown",
   "id": "ff410ee3-1fcd-4291-8a17-fd8c6eb959b0",
   "metadata": {},
   "source": [
    "The basic type provided by the NumPy library is the `ndarray` type (henceforth referred to as a NumPy array).\n",
    "\n",
    "- The NumPy array type is a Python wrapper around an underlying C array structure. The array operations are implemented in C and optimized for performance.\n",
    "- NumPy arrays must consist of homogeneous data (could be a pointer to an arbitrary Python object).\n",
    "- Under the hood, a NumPy array of any shape is a buffer containing the raw data as a flat (one-dimensional) array, and a collection of additional metadata that specifies details such as the type of the elements."
   ]
  },
  {
   "cell_type": "markdown",
   "id": "dafd3348-4df5-445b-a90a-d77acd14ff82",
   "metadata": {},
   "source": [
    "NumPy provides a number of [universal functions](https://numpy.org/doc/stable/user/basics.ufuncs.html).\n",
    "\n",
    "- A universal function (or ufunc for short) is a function that operates on ndarrays in an element-by-element fashion, supporting array broadcasting, type casting, and several other standard features.\n",
    "- That is, a ufunc is a “vectorized” wrapper for a function that takes a fixed number of specific inputs and produces a fixed number of specific outputs.\n",
    "\n",
    "*Broadcasting*: Each universal function takes array inputs and produces array outputs by performing the core function element-wise on the inputs (where an element is generally a scalar, but can be a vector or higher-order sub-array for generalized ufuncs)."
   ]
  },
  {
   "cell_type": "code",
   "execution_count": 11,
   "id": "97750f51-1451-4276-9cf1-254d694c9638",
   "metadata": {},
   "outputs": [],
   "source": [
    "assert np.all([0,1,2,3] == np.arange(4))"
   ]
  },
  {
   "cell_type": "code",
   "execution_count": 12,
   "id": "8751950d-42dc-403a-a020-ce7eb31b1a21",
   "metadata": {},
   "outputs": [],
   "source": [
    "assert np.all([1,1,1,1] == np.ones((1, 4)))"
   ]
  },
  {
   "cell_type": "code",
   "execution_count": 13,
   "id": "2494e28c-1343-4247-949e-80e6867d40ed",
   "metadata": {},
   "outputs": [],
   "source": [
    "assert np.all([-1,0,1,2] == np.arange(4) - np.ones((1, 4)))"
   ]
  },
  {
   "cell_type": "markdown",
   "id": "96ec4425-2b94-4a46-afc7-4effb96a2534",
   "metadata": {
    "jp-MarkdownHeadingCollapsed": true
   },
   "source": [
    "### Array creation\n",
    "\n",
    "There are six general mechanisms for [creating arrays](https://numpy.org/doc/stable/user/basics.creation.html):\n",
    "\n",
    "1. conversion from other Python structures (i.e., lists and tuples)\n",
    "   - NumPy arrays can be defined using Python sequence such as lists `[...]` and tuples `(...)`\n",
    "   - use `numpy.array` function to define a new array\n",
    "   - the `dtype` of elements in the array can be specified explicitly\n",
    "3. intrinsic NumPy array creation functions (e.g., arange, ones, zeros, etc.)\n",
    "4. replicating, joining, or mutating existing arrays\n",
    "5. reading arrays from disk, either from standard or custom formats\n",
    "   - this is the most common case of large array creation\n",
    "   - the [details](https://numpy.org/doc/stable/user/how-to-io.html#how-to-io) depend greatly on the format of data on disk\n",
    "6. creating arrays from raw bytes through the use of strings or buffers\n",
    "   - if the file has a relatively simple format then one can write a simple I/O library and use the NumPy fromfile() function and .tofile() method to read and write NumPy arrays directly (mind your byteorder though!)\n",
    "8. use of special library functions (e.g., random)\n",
    "   - many Python libraries, including SciPy, Pandas, and OpenCV, use NumPy ndarrays as the common format for data exchange"
   ]
  },
  {
   "cell_type": "markdown",
   "id": "bec9eeaf-0518-4e49-9211-9dbd59f75a04",
   "metadata": {},
   "source": [
    "### Intrinsic NumPy array creation functions\n",
    "\n",
    "These functions can be split into roughly three categories\n",
    "\n",
    "- 1D array creation\n",
    "- 2D array creation\n",
    "- *n*-dimension array creation"
   ]
  },
  {
   "cell_type": "markdown",
   "id": "f7aaa0aa-2726-4ad5-adb0-26c09b9cf538",
   "metadata": {},
   "source": [
    "#### 1D array creation\n",
    "\n",
    "The 1D array creation functions e.g. `numpy.linspace` and `numpy.arange` generally need at least two inputs, `start` and `stop`."
   ]
  },
  {
   "cell_type": "markdown",
   "id": "c86f1ff7-2385-4145-a592-f1d29b9ed623",
   "metadata": {},
   "source": [
    "`numpy.arange` creates arrays with regularly incrementing values, starting from `start` until `end` exclusive:"
   ]
  },
  {
   "cell_type": "markdown",
   "id": "391151c4-ba74-4cbf-9b9b-e4c86577236e",
   "metadata": {},
   "source": [
    "`numpy.linspace` will create arrays with a specified number of elements, and spaced equally between the specified beginning and end values inclusive."
   ]
  },
  {
   "cell_type": "code",
   "execution_count": 14,
   "id": "a872b118-b1d9-4b3f-808d-0384edf1b080",
   "metadata": {},
   "outputs": [],
   "source": [
    "assert np.all([ 0., 16., 32., 48., 64.] == np.linspace(0, 64, 5))"
   ]
  },
  {
   "cell_type": "markdown",
   "id": "a3a2746f-1ee0-4d6a-9367-98e9722cad92",
   "metadata": {},
   "source": [
    "#### 2D array creation\n",
    "\n",
    "The 2D array creation functions e.g. `numpy.eye`, `numpy.diag`, and `numpy.vander` define properties of special matrices represented as 2D arrays."
   ]
  },
  {
   "cell_type": "markdown",
   "id": "dbf5f924-e57e-4e27-b21f-58ff3de93b2f",
   "metadata": {},
   "source": [
    "`np.eye(n)` defines a 2D identity matrix. The elements where $i=j$ (row index and column index are equal) are 1 and the rest are 0, also known as the *identity matrix*."
   ]
  },
  {
   "cell_type": "code",
   "execution_count": 15,
   "id": "458471a6-1f17-41de-be1d-4463514691a3",
   "metadata": {},
   "outputs": [],
   "source": [
    "assert np.all(np.eye(3) == [\n",
    "    [1,0,0],\n",
    "    [0,1,0],\n",
    "    [0,0,1]\n",
    "])"
   ]
  },
  {
   "cell_type": "markdown",
   "id": "2fa4a78a-bb88-4f67-b864-3dc8dfec5438",
   "metadata": {},
   "source": [
    "`numpy.diag` can define either a square 2D array with given values along the diagonal and the rest are 0, also known as the *diagonal matrix*."
   ]
  },
  {
   "cell_type": "code",
   "execution_count": 16,
   "id": "d30f875a-daf2-4f33-9a5a-bdba57232ad1",
   "metadata": {},
   "outputs": [],
   "source": [
    "assert np.all(np.diag([1,2,3]) == [\n",
    "    [1,0,0],\n",
    "    [0,2,0],\n",
    "    [0,0,3]\n",
    "])"
   ]
  },
  {
   "cell_type": "markdown",
   "id": "d668a3e2-624d-4d52-b00e-bc644dc5fc4f",
   "metadata": {},
   "source": [
    "#### *n*-dimension array creation\n",
    "\n",
    "The ndarray creation functions e.g. `numpy.ones`, `numpy.zeros`, and `random` define arrays based upon the desired shape. The ndarray creation functions can create arrays with any dimension by specifying how many dimensions and length along that dimension in a tuple or list."
   ]
  },
  {
   "cell_type": "markdown",
   "id": "75cd6134-221b-4156-81a0-853bf351eeb8",
   "metadata": {},
   "source": [
    "`numpy.zeros` will create an array filled with 0 values with the specified shape."
   ]
  },
  {
   "cell_type": "code",
   "execution_count": 17,
   "id": "4b48f9cf-9d3b-4612-aaa2-823ca9482473",
   "metadata": {},
   "outputs": [],
   "source": [
    "assert np.all(np.zeros((2,3,4)) == [\n",
    "    [[0.,0.,0.,0.],[0.,0.,0.,0.],[0.,0.,0.,0.]],\n",
    "    [[0.,0.,0.,0.],[0.,0.,0.,0.],[0.,0.,0.,0.]]\n",
    "])   # the default type is float64"
   ]
  },
  {
   "cell_type": "markdown",
   "id": "8f52ae0b-ae2b-4fa8-878a-604dfd8f7170",
   "metadata": {},
   "source": [
    "`numpy.ones` will create an array filled with 1 values. It is identical to `numpy.zeros` in all other respects."
   ]
  },
  {
   "cell_type": "markdown",
   "id": "d3f807bb-a979-47aa-832c-fbfb564491f7",
   "metadata": {},
   "source": [
    "The `random` method of the result of `default_rng` will create an array filled with random values between 0 and 1. It is included with the `numpy.random` library. Below, two arrays are created with shapes (2,3) and (2,3,2), respectively. The seed is set to 42 so you can reproduce these pseudorandom numbers:\n",
    "\n",
    "```python\n",
    "from numpy.random import default_rng\n",
    "arr1 = default_rng(42).random((2,3))      # 2D array of shape (2,3)\n",
    "arr2 = default_rng(42).random((2,3,4))    # 3D array of shape (2,3,4)\n",
    "```"
   ]
  },
  {
   "cell_type": "markdown",
   "id": "36ec4aa0-7e09-472f-b73b-ec6ee499b5d7",
   "metadata": {},
   "source": [
    "### Higher dimensional arrays\n",
    "\n",
    "Here, we can create a two-dimensional array by providing a list of lists, where each member of the inner list is a number."
   ]
  },
  {
   "cell_type": "code",
   "execution_count": 18,
   "id": "ae07478e-ca97-409f-b486-0acb1b040923",
   "metadata": {},
   "outputs": [],
   "source": [
    "vec = np.array([1,2])\n",
    "assert np.all(vec.shape == (2,))"
   ]
  },
  {
   "cell_type": "code",
   "execution_count": 19,
   "id": "83edf1ed-1d10-4373-8b1f-8abe211cfc51",
   "metadata": {},
   "outputs": [],
   "source": [
    "mat = np.array([[1,2],[3,4]])\n",
    "assert np.all(mat.shape == (2,2))"
   ]
  },
  {
   "cell_type": "markdown",
   "id": "5a37156f-4d43-4ddc-98b3-4d5bbc69e4a6",
   "metadata": {},
   "source": [
    "Recall that under the hood, a NumPy array of any shape is a buffer containing the raw data as a flat (one-dimensional) array, and a collection of additional metadata that specifies details. One of the metadata is the `shape` that specifies the dimension of the NumPy array."
   ]
  },
  {
   "cell_type": "markdown",
   "id": "2b0e67a5-136f-4df7-823c-5093f89cf57c",
   "metadata": {},
   "source": [
    "An array can be reshaped with little cost by simply changing the associated metadata. This is done using the `numpy.ndarray.reshape` method on the NumPy array:"
   ]
  },
  {
   "cell_type": "code",
   "execution_count": 20,
   "id": "1c9db18c-1d89-405f-b7f1-e8be1fc59d7f",
   "metadata": {},
   "outputs": [],
   "source": [
    "mat2 = mat.reshape((4,))\n",
    "# mat.reshape((4,))\n",
    "assert np.all(mat2.shape == (4,))\n",
    "assert np.all(mat2 == [1,2,3,4])\n",
    "assert np.all(mat.shape == (2,2))\n",
    "assert np.all(mat == [[1,2],[3,4]])"
   ]
  },
  {
   "cell_type": "markdown",
   "id": "17598b7c-697e-473b-9b25-dbcee096a3a2",
   "metadata": {},
   "source": [
    "Note that the total number of elements must remain unchanged. The matrix `mat` originally has shape (2, 2) with a total of 4 elements, and the latter is a one-dimensional array with shape (4,), which again has a total of 4 elements. Attempting to reshape when there is a mismatch in the total number of elements will result in a `ValueError`."
   ]
  },
  {
   "cell_type": "markdown",
   "id": "b9af0eb6-5198-40fe-82f8-e6649e4211c0",
   "metadata": {},
   "source": [
    "Note that the `numpy.ndarray.reshape` method returns either a new view view object or a copy, depending on [the `order` and `copy` arguments](https://numpy.org/doc/stable/reference/generated/numpy.reshape.html). In the above code, `mat2` is a reshaped view of `mat`: therefore"
   ]
  },
  {
   "cell_type": "code",
   "execution_count": 21,
   "id": "4d4b9c67-cc98-41ee-951b-df39d3ef9502",
   "metadata": {},
   "outputs": [],
   "source": [
    "mat[0,1] = 10\n",
    "assert mat2[1] == 10"
   ]
  },
  {
   "cell_type": "markdown",
   "id": "b5d49742-db2f-4397-a3a5-b6a9f42e4933",
   "metadata": {},
   "source": [
    "## Matrices\n",
    "\n",
    "NumPy arrays also serve as matrices, which are fundamental in mathematics and computational programming. A matrix is simply a two-dimensional array."
   ]
  },
  {
   "cell_type": "markdown",
   "id": "9cc67573-2fec-401d-a3ce-cda182a06a45",
   "metadata": {},
   "source": [
    "A matrix with $m$ rows and $n$ columns is usually described as an $m \\times n$ matrix. A matrix that has the same number of rows as columns is said to be a *square matrix*."
   ]
  },
  {
   "cell_type": "code",
   "execution_count": 22,
   "id": "57f05513-ee6c-4c02-b880-7cee88ea3f2c",
   "metadata": {},
   "outputs": [],
   "source": [
    "A = np.arange(15).reshape(3,5)\n",
    "assert np.all(A == [\n",
    "    [ 0, 1, 2, 3, 4],\n",
    "    [ 5, 6, 7, 8, 9],\n",
    "    [10,11,12,13,14]\n",
    "])\n",
    "assert A.ndim == 2                  # two-dimensional\n",
    "assert np.all(A.shape == (3,5))     # 3 rows, 5 columns"
   ]
  },
  {
   "cell_type": "markdown",
   "id": "f7b37fe2-b300-47b3-ac76-ecdd956f7e89",
   "metadata": {},
   "source": [
    "The *identity matrix* (of size $n$) is the $n \\times n$ matrix where the $(i,i)$-th entry is 1, and the $(i,j)$-th entry is zero for $i \\neq j$."
   ]
  },
  {
   "cell_type": "code",
   "execution_count": 23,
   "id": "5e8a4bd4-b292-42d6-be9a-2fba996c5c82",
   "metadata": {},
   "outputs": [],
   "source": [
    "I3 = np.eye(3)\n",
    "assert np.all(I3 == [\n",
    "    [1,0,0],\n",
    "    [0,1,0],\n",
    "    [0,0,1]\n",
    "])"
   ]
  },
  {
   "cell_type": "markdown",
   "id": "770dc414-0296-4fbc-a934-c0c40a826bf8",
   "metadata": {},
   "source": [
    "### Basic methods"
   ]
  },
  {
   "cell_type": "markdown",
   "id": "6d63d798-d563-4c97-b939-93da9db78086",
   "metadata": {},
   "source": [
    "The *transpose* of a matrix is a matrix where rows and columns are interchanged.\n",
    "\n",
    "- the `numpy.ndarray.transpose` method\n",
    "- the `T` property of the `numpy.ndarray` object"
   ]
  },
  {
   "cell_type": "code",
   "execution_count": 24,
   "id": "3856e508-f5a9-49fb-a24b-7f6be5358dbf",
   "metadata": {},
   "outputs": [],
   "source": [
    "a = A.transpose()\n",
    "assert np.all(a.shape == (5,3))    # 5 rows, 3 columns\n",
    "assert np.all(a == [\n",
    "    [0,5,10],\n",
    "    [1,6,11],\n",
    "    [2,7,12],\n",
    "    [3,8,13],\n",
    "    [4,9,14]\n",
    "])\n",
    "assert np.all(a == A.T)"
   ]
  },
  {
   "cell_type": "markdown",
   "id": "2a5a4f11-1af0-49f7-8c95-23945123b06e",
   "metadata": {},
   "source": [
    "The *trace* of a matrix is the sum of the diagonal elements.\n",
    "\n",
    "$$\n",
    "\\begin{aligned}\n",
    "\\text{trace}(B) &= \\sum_{i=1}^{n} b_{i,i} \\\\\n",
    "&= 0 + 4 + 8 = 12\n",
    "\\end{aligned}\n",
    "$$"
   ]
  },
  {
   "cell_type": "code",
   "execution_count": 25,
   "id": "a7557ec1-8abb-45ac-b6f0-b43982ed7f68",
   "metadata": {},
   "outputs": [],
   "source": [
    "B = np.arange(9).reshape(3,3)\n",
    "assert np.all(B == [\n",
    "    [0,1,2],\n",
    "    [3,4,5],\n",
    "    [6,7,8]\n",
    "])\n",
    "assert B.trace() == 12"
   ]
  },
  {
   "cell_type": "markdown",
   "id": "6e6f84f8-c825-4e8d-938c-2d653b7e1207",
   "metadata": {},
   "source": [
    "### Matrix multiplication"
   ]
  }
 ],
 "metadata": {
  "kernelspec": {
   "display_name": "Python 3 (ipykernel)",
   "language": "python",
   "name": "python3"
  },
  "language_info": {
   "codemirror_mode": {
    "name": "ipython",
    "version": 3
   },
   "file_extension": ".py",
   "mimetype": "text/x-python",
   "name": "python",
   "nbconvert_exporter": "python",
   "pygments_lexer": "ipython3",
   "version": "3.13.1"
  }
 },
 "nbformat": 4,
 "nbformat_minor": 5
}

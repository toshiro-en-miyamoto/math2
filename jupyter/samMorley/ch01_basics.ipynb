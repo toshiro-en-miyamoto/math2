{
 "cells": [
  {
   "cell_type": "markdown",
   "id": "5552bdaf-5dca-4603-a9e3-f1be00791157",
   "metadata": {},
   "source": [
    "# Chapter 1. Basics"
   ]
  },
  {
   "cell_type": "markdown",
   "id": "61da310e-a3b2-46e4-8cb1-bae7e7095b89",
   "metadata": {},
   "source": [
    "## Python numerical types"
   ]
  },
  {
   "cell_type": "markdown",
   "id": "275ec0bd-d95e-4c97-af69-e7c8fddc06bc",
   "metadata": {},
   "source": [
    "### Decimal type\n",
    "\n",
    "For applications that require decimal digits with accurate arithmetic operations, use the `Decimal` type from the `decimal` module in the Python Standard Library:"
   ]
  },
  {
   "cell_type": "code",
   "execution_count": 1,
   "id": "1b3feb52-1c7b-4c25-a576-b51de63e7737",
   "metadata": {},
   "outputs": [],
   "source": [
    "from decimal import Decimal\n",
    "num1 = Decimal('1.1')\n",
    "num2 = Decimal('1.563')\n",
    "assert Decimal('2.663') == num1 + num2"
   ]
  },
  {
   "cell_type": "markdown",
   "id": "a210ac79-59ce-45f0-9350-0d583b8a5872",
   "metadata": {},
   "source": [
    "Certain numbers such as `0.1` cannot be represented exactly using a finite sum of powers of 2. `0.1` has a binary expansion `0.000110011...`, which does not terminate. Any floating-point representation of this number will therefore carry a small error."
   ]
  },
  {
   "cell_type": "code",
   "execution_count": 8,
   "id": "24f5f729-073c-4d58-9d8d-f081e007f56d",
   "metadata": {},
   "outputs": [],
   "source": [
    "assert 2.663 != 1.1 + 1.563"
   ]
  },
  {
   "cell_type": "markdown",
   "id": "ee5ef4ed-c53d-49fa-892e-0d9d2ed39b33",
   "metadata": {},
   "source": [
    "The `decimal` package also provides a `Context` object, which allows fine-grained control over the precision, display, and attributes of `Decimal` objects:"
   ]
  },
  {
   "cell_type": "code",
   "execution_count": 10,
   "id": "8ad504fa-ad6f-4454-a939-a2ba1e2f1c11",
   "metadata": {},
   "outputs": [],
   "source": [
    "assert Decimal('1.4641') == num1**4\n",
    "\n",
    "from decimal import localcontext\n",
    "with localcontext() as ctx:\n",
    "    ctx.prec = 3\n",
    "    assert Decimal('1.46') == num1**4"
   ]
  },
  {
   "cell_type": "markdown",
   "id": "53b377cd-17c8-457c-aa64-ad54be5a85b6",
   "metadata": {},
   "source": [
    "> When we set the precision to `3`, rather than the default `28`, we see that the fourth power of 1.1 is rounded to three significant figures."
   ]
  },
  {
   "cell_type": "markdown",
   "id": "da97f20e-0af9-40b6-882b-2a0f50e55dc7",
   "metadata": {},
   "source": [
    "This means that context can be freely modified inside the `with` block, and will be returned to the default at the end."
   ]
  },
  {
   "cell_type": "markdown",
   "id": "3f3b4113-f76f-4743-9d08-c8f6ed57148e",
   "metadata": {},
   "source": [
    "### Fraction type\n",
    "\n",
    "The `Fraction` type from the `fractions` module in the Python Standard Library, simply stores two integers (the numerator and the denominator), and arithmetic is performed using the basic rule for arithmetic of fractions."
   ]
  },
  {
   "cell_type": "code",
   "execution_count": 12,
   "id": "7c320cc0-2133-4374-a20b-d51924c91759",
   "metadata": {},
   "outputs": [],
   "source": [
    "from fractions import Fraction\n",
    "fr1 = Fraction(1, 3)\n",
    "fr2 = Fraction(1, 7)\n",
    "assert Fraction(10, 21) == fr1 + fr2\n",
    "assert Fraction(4, 21) == fr1 - fr2\n",
    "assert Fraction(1, 21) == fr1 * fr2\n",
    "assert Fraction(7, 3) == fr1 / fr2"
   ]
  }
 ],
 "metadata": {
  "kernelspec": {
   "display_name": "Python 3 (ipykernel)",
   "language": "python",
   "name": "python3"
  },
  "language_info": {
   "codemirror_mode": {
    "name": "ipython",
    "version": 3
   },
   "file_extension": ".py",
   "mimetype": "text/x-python",
   "name": "python",
   "nbconvert_exporter": "python",
   "pygments_lexer": "ipython3",
   "version": "3.13.1"
  }
 },
 "nbformat": 4,
 "nbformat_minor": 5
}

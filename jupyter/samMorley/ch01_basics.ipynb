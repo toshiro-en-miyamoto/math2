{
 "cells": [
  {
   "cell_type": "markdown",
   "id": "5552bdaf-5dca-4603-a9e3-f1be00791157",
   "metadata": {},
   "source": [
    "# Chapter 1. Basics"
   ]
  },
  {
   "cell_type": "markdown",
   "id": "61da310e-a3b2-46e4-8cb1-bae7e7095b89",
   "metadata": {},
   "source": [
    "## Python numerical types"
   ]
  },
  {
   "cell_type": "markdown",
   "id": "275ec0bd-d95e-4c97-af69-e7c8fddc06bc",
   "metadata": {},
   "source": [
    "### Decimal type\n",
    "\n",
    "For applications that require decimal digits with accurate arithmetic operations, use the `Decimal` type from the `decimal` module in the Python Standard Library:"
   ]
  },
  {
   "cell_type": "code",
   "execution_count": 1,
   "id": "1b3feb52-1c7b-4c25-a576-b51de63e7737",
   "metadata": {},
   "outputs": [],
   "source": [
    "from decimal import Decimal\n",
    "num1 = Decimal('1.1')\n",
    "num2 = Decimal('1.563')\n",
    "assert Decimal('2.663') == num1 + num2"
   ]
  },
  {
   "cell_type": "markdown",
   "id": "a210ac79-59ce-45f0-9350-0d583b8a5872",
   "metadata": {},
   "source": [
    "Certain numbers such as `0.1` cannot be represented exactly using a finite sum of powers of 2. `0.1` has a binary expansion `0.000110011...`, which does not terminate. Any floating-point representation of this number will therefore carry a small error."
   ]
  },
  {
   "cell_type": "code",
   "execution_count": 2,
   "id": "24f5f729-073c-4d58-9d8d-f081e007f56d",
   "metadata": {},
   "outputs": [],
   "source": [
    "assert 2.663 != 1.1 + 1.563"
   ]
  },
  {
   "cell_type": "markdown",
   "id": "ee5ef4ed-c53d-49fa-892e-0d9d2ed39b33",
   "metadata": {},
   "source": [
    "The `decimal` package also provides a `Context` object, which allows fine-grained control over the precision, display, and attributes of `Decimal` objects:"
   ]
  },
  {
   "cell_type": "code",
   "execution_count": 3,
   "id": "8ad504fa-ad6f-4454-a939-a2ba1e2f1c11",
   "metadata": {},
   "outputs": [],
   "source": [
    "assert Decimal('1.4641') == num1**4\n",
    "\n",
    "from decimal import localcontext\n",
    "with localcontext() as ctx:\n",
    "    ctx.prec = 3\n",
    "    assert Decimal('1.46') == num1**4"
   ]
  },
  {
   "cell_type": "markdown",
   "id": "53b377cd-17c8-457c-aa64-ad54be5a85b6",
   "metadata": {},
   "source": [
    "> When we set the precision to `3`, rather than the default `28`, we see that the fourth power of 1.1 is rounded to three significant figures."
   ]
  },
  {
   "cell_type": "markdown",
   "id": "da97f20e-0af9-40b6-882b-2a0f50e55dc7",
   "metadata": {},
   "source": [
    "This means that context can be freely modified inside the `with` block, and will be returned to the default at the end."
   ]
  },
  {
   "cell_type": "markdown",
   "id": "3f3b4113-f76f-4743-9d08-c8f6ed57148e",
   "metadata": {},
   "source": [
    "### Fraction type\n",
    "\n",
    "The `Fraction` type from the `fractions` module in the Python Standard Library, simply stores two integers (the numerator and the denominator), and arithmetic is performed using the basic rule for arithmetic of fractions."
   ]
  },
  {
   "cell_type": "code",
   "execution_count": 4,
   "id": "7c320cc0-2133-4374-a20b-d51924c91759",
   "metadata": {},
   "outputs": [],
   "source": [
    "from fractions import Fraction\n",
    "fr1 = Fraction(1, 3)\n",
    "fr2 = Fraction(1, 7)\n",
    "assert Fraction(10, 21) == fr1 + fr2\n",
    "assert Fraction(4, 21) == fr1 - fr2\n",
    "assert Fraction(1, 21) == fr1 * fr2\n",
    "assert Fraction(7, 3) == fr1 / fr2"
   ]
  },
  {
   "cell_type": "markdown",
   "id": "b2ca5920-8a0d-47b2-8b10-418ea4eba471",
   "metadata": {},
   "source": [
    "## Basic mathematical functions"
   ]
  },
  {
   "cell_type": "markdown",
   "id": "94c1083d-7c7f-4e55-8abb-5c09cfcc2af8",
   "metadata": {},
   "source": [
    "The `math` module in the Python Standard Library provides all of the standard mathematical functions, along with common constants and some utility functions:"
   ]
  },
  {
   "cell_type": "code",
   "execution_count": 5,
   "id": "782ae078-63bd-47b4-8094-d3320a55c93d",
   "metadata": {},
   "outputs": [],
   "source": [
    "import math\n",
    "assert 2.0 == math.sqrt(4)\n",
    "assert math.isclose(math.sin(math.pi/4), math.cos(math.pi/4))\n",
    "assert math.isclose(1.0, math.tan(math.pi/4))"
   ]
  },
  {
   "cell_type": "markdown",
   "id": "8d568d84-fb67-47ee-81ae-d29ad5c7a2d0",
   "metadata": {},
   "source": [
    "The `log` function in the `math` module performs logarithms.\n",
    "\n",
    "$$\n",
    "\\begin{aligned}\n",
    "y = \\log_b{x} &\\iff x = b^y\\\\\n",
    "y = \\ln{(x)} &\\iff x = e^y\n",
    "\\end{aligned}\n",
    "$$\n",
    "\n",
    "Where the constant $e$ is base of the natural logarithm, sometimes known as [Napier's constant](https://mathworld.wolfram.com/e.html). The constant can be accessed using `math.e`."
   ]
  },
  {
   "cell_type": "code",
   "execution_count": 6,
   "id": "60bc4a8b-336b-4df3-81c7-2eb7efb2bbf5",
   "metadata": {},
   "outputs": [],
   "source": [
    "assert math.log(10) == math.log(10, math.e)\n",
    "assert math.log(100, 10) == 2.0"
   ]
  },
  {
   "cell_type": "markdown",
   "id": "0eb8a16c-4b5b-4056-809d-33a3c0306cf1",
   "metadata": {},
   "source": [
    "In addition, the `math` contains various number of theoretic and combinatorial functions."
   ]
  },
  {
   "cell_type": "markdown",
   "id": "0f1d75f9-102b-4337-bf0c-f2ce2a247956",
   "metadata": {},
   "source": [
    "The `comb(n, k)` returns the number of ways to choose `k` items from a collection of `n` without repeats if order is not important. This number is sometimes written $\\displaystyle {^n}C_k = \\binom{n}{k} = \\frac{n!}{k!(n-k)!}$."
   ]
  },
  {
   "cell_type": "code",
   "execution_count": 7,
   "id": "0e2a2d92-683c-4617-9559-a584a402c6f4",
   "metadata": {},
   "outputs": [],
   "source": [
    "assert 10 == math.comb(5, 2)"
   ]
  },
  {
   "cell_type": "markdown",
   "id": "50e4036b-763e-466c-a507-fb502ddf8775",
   "metadata": {},
   "source": [
    "The `factorial(n)` returns the factorial\n",
    "$n! = n(n-1)(n-2)\\cdots 1$."
   ]
  },
  {
   "cell_type": "code",
   "execution_count": 8,
   "id": "1446f357-1341-47cd-ae7a-8186baadd3f7",
   "metadata": {},
   "outputs": [],
   "source": [
    "assert 120 == math.factorial(5)"
   ]
  },
  {
   "cell_type": "markdown",
   "id": "6854db33-399d-4575-aa18-4fe79b9f1261",
   "metadata": {},
   "source": [
    "There are also a number of functions for working with floating-point numbers. As `0.1` carries a small error, Python built-in function `sum` cannot return an accurate sum of values in an iterable, while `math.fsum` avoids loss of precision by tracking multiple intermediate partial sums."
   ]
  },
  {
   "cell_type": "code",
   "execution_count": 9,
   "id": "d22dfcc8-800b-4abf-a3ae-478317af17e2",
   "metadata": {},
   "outputs": [],
   "source": [
    "nums = [0.1]*10    # a list containing 0.1 ten items\n",
    "assert math.isclose(1.0, sum(nums))\n",
    "assert 1.0 == math.fsum(nums)"
   ]
  },
  {
   "cell_type": "markdown",
   "id": "c496301d-b6df-4cbc-bbb4-cb676efdedcd",
   "metadata": {},
   "source": [
    "## NumPy arrays"
   ]
  }
 ],
 "metadata": {
  "kernelspec": {
   "display_name": "Python 3 (ipykernel)",
   "language": "python",
   "name": "python3"
  },
  "language_info": {
   "codemirror_mode": {
    "name": "ipython",
    "version": 3
   },
   "file_extension": ".py",
   "mimetype": "text/x-python",
   "name": "python",
   "nbconvert_exporter": "python",
   "pygments_lexer": "ipython3",
   "version": "3.13.1"
  }
 },
 "nbformat": 4,
 "nbformat_minor": 5
}

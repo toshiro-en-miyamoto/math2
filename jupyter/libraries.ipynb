{
 "cells": [
  {
   "cell_type": "markdown",
   "id": "af57a58e-9a75-4a17-bfbd-ded11ed57ef6",
   "metadata": {},
   "source": [
    "# Python Libraries\n",
    "\n",
    "Commonly used libraries include:\n",
    "\n",
    "- numpy\n",
    "- pandas\n",
    "- scikit-learn\n",
    "- matplotlib\n",
    "- seaborn\n",
    "- jupyter"
   ]
  },
  {
   "cell_type": "markdown",
   "id": "a37c22de-b29c-4c93-a2c7-0deb15fc3fa5",
   "metadata": {},
   "source": [
    "## NumPy\n",
    "\n",
    "[NumPy](https://numpy.org/doc/stable/user/whatisnumpy.html) is the fundamental package for scientific computing in Python. At the core of the NumPy package, is the `ndarray` object. This encapsulates *n*-dimensional arrays of homogeneous data types, with many operations being performed in compiled code for performance.\n",
    "\n",
    "[Basically](https://numpy.org/doc/stable/user/quickstart.html), NumPy’s main object is the homogeneous multidimensional array. It is a table of elements (usually numbers), all of the same type, indexed by a tuple of non-negative integers. In NumPy dimensions are called *axes*.\n",
    "\n",
    "- `[1, 2, 1]` has one axis\n",
    "  - that axis has a length of 3\n",
    "- `[[1, 0, 0], [0, 1, 2]]` has two axes\n",
    "  - the 1st axis has a length of 2\n",
    "  - the 2nd axis has a length of 3"
   ]
  },
  {
   "cell_type": "code",
   "execution_count": 2,
   "id": "e16810d6-c7a3-4743-ae86-b14528185f3b",
   "metadata": {},
   "outputs": [],
   "source": [
    "import numpy as np"
   ]
  },
  {
   "cell_type": "code",
   "execution_count": 15,
   "id": "3328c587-3778-4125-806d-68d3fbddee44",
   "metadata": {},
   "outputs": [],
   "source": [
    "# one-dimentional array\n",
    "a1 = np.array([1, 2, 1])\n",
    "assert a1.ndim == 1                 # has one axis\n",
    "assert a1.shape == (3,)             # that axis has a length of 3\n",
    "assert a1.dtype.name == 'int64'     # the type of elements is int64"
   ]
  },
  {
   "cell_type": "code",
   "execution_count": 14,
   "id": "3e1fdbad-0742-4bbb-ae30-f503c98335da",
   "metadata": {},
   "outputs": [],
   "source": [
    "# two-dimentional array\n",
    "a2 = np.array([\n",
    "    [1.0, 0, 0],\n",
    "    [0, 1, 2]\n",
    "])\n",
    "assert a2.ndim == 2                 # has two axes\n",
    "assert a2.shape == (2, 3)           # the 1st axis has a length of 2, the 2nd 3\n",
    "assert a2.dtype.name == 'float64'   # the type of elements is float64"
   ]
  },
  {
   "cell_type": "markdown",
   "id": "ab968f19-0a99-4a53-8b36-e5358a1fda25",
   "metadata": {},
   "source": [
    "## pandas\n",
    "\n",
    "[pandas](https://pandas.pydata.org/docs/getting_started/overview.html) aims to be the fundamental high-level building block for doing practical, real-world data analysis in Python.\n",
    "\n",
    "- tabular data with heterogeneously-typed columns, as in an SQL table\n",
    "- ordered or unordered time series data\n",
    "- arbitrary matrix data with row and column labels\n",
    "\n",
    "The two primary data structures of pandas, `Series` (1-dimensional) and `DataFrame` (2-dimensional), handle the vast majority of typical use cases in finance, statistics, social science, and many areas of engineering."
   ]
  },
  {
   "cell_type": "markdown",
   "id": "c2118418-2a4d-4044-82e6-91d086b6ccc7",
   "metadata": {},
   "source": [
    "To load the pandas package and start working with it, import the package as shown below. The community agreed alias for pandas is `pd`."
   ]
  },
  {
   "cell_type": "code",
   "execution_count": 16,
   "id": "86ec95c4-ca67-4e5f-859f-562b72ae0fa9",
   "metadata": {},
   "outputs": [],
   "source": [
    "import pandas as pd"
   ]
  },
  {
   "cell_type": "markdown",
   "id": "a0149d22-5fba-48a9-a7bb-853c1a8eea19",
   "metadata": {},
   "source": [
    "When using the *N*-dimensional array (`ndarray`s) to store 2- and 3-dimensional data, a burden is placed on the user to consider the orientation of the data set when writing functions; axes are considered more or less equivalent. In pandas, the axes are intended to lend more semantic meaning to the data; i.e., for a particular data set, there is likely to be a “right” way to orient the data. The goal, then, is to reduce the amount of mental effort required to code up data transformations in downstream functions.\n",
    "\n",
    "The following [code](https://pandas.pydata.org/docs/getting_started/intro_tutorials/01_table_oriented.html) creates a `DataFrame` from a Python dictionary of lists, where the dictionary keys will be used as column headers and the values in each list as columns of the `DataFrame`."
   ]
  },
  {
   "cell_type": "code",
   "execution_count": 17,
   "id": "2f5cadc3-1363-4058-938e-8f0ea932cf9b",
   "metadata": {},
   "outputs": [
    {
     "data": {
      "text/html": [
       "<div>\n",
       "<style scoped>\n",
       "    .dataframe tbody tr th:only-of-type {\n",
       "        vertical-align: middle;\n",
       "    }\n",
       "\n",
       "    .dataframe tbody tr th {\n",
       "        vertical-align: top;\n",
       "    }\n",
       "\n",
       "    .dataframe thead th {\n",
       "        text-align: right;\n",
       "    }\n",
       "</style>\n",
       "<table border=\"1\" class=\"dataframe\">\n",
       "  <thead>\n",
       "    <tr style=\"text-align: right;\">\n",
       "      <th></th>\n",
       "      <th>Name</th>\n",
       "      <th>Age</th>\n",
       "      <th>Sex</th>\n",
       "    </tr>\n",
       "  </thead>\n",
       "  <tbody>\n",
       "    <tr>\n",
       "      <th>0</th>\n",
       "      <td>Braund, Mr. Owen Harris</td>\n",
       "      <td>22</td>\n",
       "      <td>male</td>\n",
       "    </tr>\n",
       "    <tr>\n",
       "      <th>1</th>\n",
       "      <td>Allen, Mr. William Henry</td>\n",
       "      <td>35</td>\n",
       "      <td>male</td>\n",
       "    </tr>\n",
       "    <tr>\n",
       "      <th>2</th>\n",
       "      <td>Bonnell, Miss. Elizabeth</td>\n",
       "      <td>58</td>\n",
       "      <td>female</td>\n",
       "    </tr>\n",
       "  </tbody>\n",
       "</table>\n",
       "</div>"
      ],
      "text/plain": [
       "                       Name  Age     Sex\n",
       "0   Braund, Mr. Owen Harris   22    male\n",
       "1  Allen, Mr. William Henry   35    male\n",
       "2  Bonnell, Miss. Elizabeth   58  female"
      ]
     },
     "execution_count": 17,
     "metadata": {},
     "output_type": "execute_result"
    }
   ],
   "source": [
    "titanic = pd.DataFrame({\n",
    "    \"Name\": [\n",
    "        \"Braund, Mr. Owen Harris\",\n",
    "        \"Allen, Mr. William Henry\",\n",
    "        \"Bonnell, Miss. Elizabeth\",\n",
    "    ],\n",
    "    \"Age\": [22, 35, 58],\n",
    "    \"Sex\": [\"male\", \"male\", \"female\"],\n",
    "})\n",
    "titanic"
   ]
  },
  {
   "cell_type": "markdown",
   "id": "7d67faf4-201e-4bfb-88b9-53736351347c",
   "metadata": {},
   "source": [
    "When you're just interested in working with the data in the column `Age`, specify the column by the label. The result is a pandas `Series`."
   ]
  },
  {
   "cell_type": "code",
   "execution_count": 18,
   "id": "3b2c6e4c-3e7d-4396-94d7-2095738c836f",
   "metadata": {},
   "outputs": [
    {
     "data": {
      "text/plain": [
       "0    22\n",
       "1    35\n",
       "2    58\n",
       "Name: Age, dtype: int64"
      ]
     },
     "execution_count": 18,
     "metadata": {},
     "output_type": "execute_result"
    }
   ],
   "source": [
    "titanic[\"Age\"]"
   ]
  }
 ],
 "metadata": {
  "kernelspec": {
   "display_name": "Python 3 (ipykernel)",
   "language": "python",
   "name": "python3"
  },
  "language_info": {
   "codemirror_mode": {
    "name": "ipython",
    "version": 3
   },
   "file_extension": ".py",
   "mimetype": "text/x-python",
   "name": "python",
   "nbconvert_exporter": "python",
   "pygments_lexer": "ipython3",
   "version": "3.13.1"
  }
 },
 "nbformat": 4,
 "nbformat_minor": 5
}

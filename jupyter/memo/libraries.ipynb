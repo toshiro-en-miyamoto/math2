{
 "cells": [
  {
   "cell_type": "markdown",
   "id": "af57a58e-9a75-4a17-bfbd-ded11ed57ef6",
   "metadata": {
    "editable": true,
    "slideshow": {
     "slide_type": ""
    },
    "tags": []
   },
   "source": [
    "# Python Libraries\n",
    "\n",
    "Commonly used libraries include:\n",
    "\n",
    "- numpy\n",
    "- pandas\n",
    "- scikit-learn\n",
    "- matplotlib\n",
    "- seaborn\n",
    "- scipy\n",
    "- sympy"
   ]
  },
  {
   "cell_type": "markdown",
   "id": "a37c22de-b29c-4c93-a2c7-0deb15fc3fa5",
   "metadata": {},
   "source": [
    "## NumPy\n",
    "\n",
    "[NumPy](https://numpy.org/doc/stable/user/whatisnumpy.html) is the fundamental package for scientific computing in Python. At the core of the NumPy package, is the `ndarray` object. This encapsulates *n*-dimensional arrays of homogeneous data types, with many operations being performed in compiled code for performance.\n",
    "\n",
    "[Basically](https://numpy.org/doc/stable/user/quickstart.html), NumPy’s main object is the homogeneous multidimensional array. It is a table of elements (usually numbers), all of the same type, indexed by a tuple of non-negative integers. In NumPy dimensions are called *axes*.\n",
    "\n",
    "- `[1, 2, 1]` has one axis\n",
    "  - that axis has a length of 3\n",
    "- `[[1, 0, 0], [0, 1, 2]]` has two axes\n",
    "  - the 1st axis has a length of 2\n",
    "  - the 2nd axis has a length of 3"
   ]
  },
  {
   "cell_type": "code",
   "execution_count": 1,
   "id": "e16810d6-c7a3-4743-ae86-b14528185f3b",
   "metadata": {},
   "outputs": [],
   "source": [
    "import numpy as np"
   ]
  },
  {
   "cell_type": "code",
   "execution_count": 2,
   "id": "3328c587-3778-4125-806d-68d3fbddee44",
   "metadata": {},
   "outputs": [],
   "source": [
    "# one-dimensional array\n",
    "a1 = np.array([1, 2, 1])\n",
    "assert a1.ndim == 1                 # has one axis\n",
    "assert a1.shape == (3,)             # that axis has a length of 3\n",
    "assert a1.dtype.name == 'int64'     # the type of elements is int64"
   ]
  },
  {
   "cell_type": "code",
   "execution_count": 3,
   "id": "3e1fdbad-0742-4bbb-ae30-f503c98335da",
   "metadata": {},
   "outputs": [],
   "source": [
    "# two-dimensional array\n",
    "a2 = np.array([\n",
    "    [1.0, 0, 0],\n",
    "    [0, 1, 2]\n",
    "])\n",
    "assert a2.ndim == 2                 # has two axes\n",
    "assert a2.shape == (2, 3)           # the 1st axis has a length of 2, the 2nd 3\n",
    "assert a2.dtype.name == 'float64'   # the type of elements is float64"
   ]
  },
  {
   "cell_type": "markdown",
   "id": "ab968f19-0a99-4a53-8b36-e5358a1fda25",
   "metadata": {},
   "source": [
    "## pandas\n",
    "\n",
    "[pandas](https://pandas.pydata.org/docs/getting_started/overview.html) aims to be the fundamental high-level building block for doing practical, real-world data analysis in Python.\n",
    "\n",
    "- tabular data with heterogeneously-typed columns, as in an SQL table\n",
    "- ordered or unordered time series data\n",
    "- arbitrary matrix data with row and column labels\n",
    "\n",
    "The two primary data structures of pandas, `Series` (1-dimensional) and `DataFrame` (2-dimensional), handle the vast majority of typical use cases in finance, statistics, social science, and many areas of engineering."
   ]
  },
  {
   "cell_type": "markdown",
   "id": "c2118418-2a4d-4044-82e6-91d086b6ccc7",
   "metadata": {},
   "source": [
    "To load the pandas package and start working with it, import the package as shown below. The community agreed alias for pandas is `pd`."
   ]
  },
  {
   "cell_type": "code",
   "execution_count": 4,
   "id": "86ec95c4-ca67-4e5f-859f-562b72ae0fa9",
   "metadata": {},
   "outputs": [],
   "source": [
    "import pandas as pd"
   ]
  },
  {
   "cell_type": "markdown",
   "id": "a0149d22-5fba-48a9-a7bb-853c1a8eea19",
   "metadata": {},
   "source": [
    "When using the *N*-dimensional array (`ndarray`s) to store 2- and 3-dimensional data, a burden is placed on the user to consider the orientation of the data set when writing functions; axes are considered more or less equivalent. In pandas, the axes are intended to lend more semantic meaning to the data; i.e., for a particular data set, there is likely to be a *right* way to orient the data. The goal, then, is to reduce the amount of mental effort required to code up data transformations in downstream functions.\n",
    "\n",
    "The following [code](https://pandas.pydata.org/docs/getting_started/intro_tutorials/01_table_oriented.html) creates a `DataFrame` from a Python dictionary of lists, where the dictionary keys will be used as column headers and the values in each list as columns of the `DataFrame`."
   ]
  },
  {
   "cell_type": "code",
   "execution_count": 5,
   "id": "2f5cadc3-1363-4058-938e-8f0ea932cf9b",
   "metadata": {},
   "outputs": [
    {
     "data": {
      "text/html": [
       "<div>\n",
       "<style scoped>\n",
       "    .dataframe tbody tr th:only-of-type {\n",
       "        vertical-align: middle;\n",
       "    }\n",
       "\n",
       "    .dataframe tbody tr th {\n",
       "        vertical-align: top;\n",
       "    }\n",
       "\n",
       "    .dataframe thead th {\n",
       "        text-align: right;\n",
       "    }\n",
       "</style>\n",
       "<table border=\"1\" class=\"dataframe\">\n",
       "  <thead>\n",
       "    <tr style=\"text-align: right;\">\n",
       "      <th></th>\n",
       "      <th>Name</th>\n",
       "      <th>Age</th>\n",
       "      <th>Sex</th>\n",
       "    </tr>\n",
       "  </thead>\n",
       "  <tbody>\n",
       "    <tr>\n",
       "      <th>0</th>\n",
       "      <td>Braund, Mr. Owen Harris</td>\n",
       "      <td>22</td>\n",
       "      <td>male</td>\n",
       "    </tr>\n",
       "    <tr>\n",
       "      <th>1</th>\n",
       "      <td>Allen, Mr. William Henry</td>\n",
       "      <td>35</td>\n",
       "      <td>male</td>\n",
       "    </tr>\n",
       "    <tr>\n",
       "      <th>2</th>\n",
       "      <td>Bonnell, Miss. Elizabeth</td>\n",
       "      <td>58</td>\n",
       "      <td>female</td>\n",
       "    </tr>\n",
       "  </tbody>\n",
       "</table>\n",
       "</div>"
      ],
      "text/plain": [
       "                       Name  Age     Sex\n",
       "0   Braund, Mr. Owen Harris   22    male\n",
       "1  Allen, Mr. William Henry   35    male\n",
       "2  Bonnell, Miss. Elizabeth   58  female"
      ]
     },
     "execution_count": 5,
     "metadata": {},
     "output_type": "execute_result"
    }
   ],
   "source": [
    "titanic = pd.DataFrame({\n",
    "    \"Name\": [\n",
    "        \"Braund, Mr. Owen Harris\",\n",
    "        \"Allen, Mr. William Henry\",\n",
    "        \"Bonnell, Miss. Elizabeth\",\n",
    "    ],\n",
    "    \"Age\": [22, 35, 58],\n",
    "    \"Sex\": [\"male\", \"male\", \"female\"],\n",
    "})\n",
    "titanic"
   ]
  },
  {
   "cell_type": "markdown",
   "id": "7d67faf4-201e-4bfb-88b9-53736351347c",
   "metadata": {},
   "source": [
    "When you're just interested in working with the data in the column `Age`, specify the column by the label. The result is a pandas `Series`."
   ]
  },
  {
   "cell_type": "code",
   "execution_count": 6,
   "id": "3b2c6e4c-3e7d-4396-94d7-2095738c836f",
   "metadata": {},
   "outputs": [
    {
     "data": {
      "text/plain": [
       "0    22\n",
       "1    35\n",
       "2    58\n",
       "Name: Age, dtype: int64"
      ]
     },
     "execution_count": 6,
     "metadata": {},
     "output_type": "execute_result"
    }
   ],
   "source": [
    "titanic[\"Age\"]"
   ]
  },
  {
   "cell_type": "markdown",
   "id": "0852d8a5-30cd-401e-bd90-318f29d806ff",
   "metadata": {},
   "source": [
    "## scikit-learn\n",
    "\n",
    "[Scikit-learn](https://scikit-learn.org/stable/getting_started.html) is an open source machine learning library that supports supervised and unsupervised learning. It also provides various tools for model fitting, data preprocessing, model selection, model evaluation, and many other utilities.\n",
    "\n",
    "Scikit-learn is Built on NumPy, SciPy, and matplotlib. Simple and efficient tools for [predictive data analysis](https://scikit-learn.org/stable/index.html):\n",
    "\n",
    "- classification\n",
    "  - what: identifying which category an object belongs to\n",
    "  - why: spam detection, image recognition\n",
    "  - how: gradient boosting, nearest neighbors, random forest, logistic regression\n",
    "- regression\n",
    "  - what: predicting a continuous-valued attribute associated with an object\n",
    "  - why: drug response, stock prices\n",
    "  - how: gradient boosting, nearest neighbors, random forest, ridge\n",
    "- clustering\n",
    "  - what: automatic grouping of similar objects into sets\n",
    "  - why: customer segmentation, grouping experiment outcomes\n",
    "  - how: k-means, HDBSCAN, hierarchical clustering\n",
    "- dimensionality reduction\n",
    "  - what: reducing the number of random variables to consider\n",
    "  - why: visualization, increased efficiency\n",
    "  - how: PCA, feature selection, non-negative matrix factorization\n",
    "- model selection\n",
    "  - what: comparing, validating and choosing parameters and models\n",
    "  - why: improved accuracy via parameter tuning\n",
    "  - how: grid search, cross validation, metrics\n",
    "- preprocessing\n",
    "  - what: feature extraction and normalization\n",
    "  - why: transforming input data\n",
    "  - how: preprocessing, feature extraction"
   ]
  },
  {
   "cell_type": "markdown",
   "id": "4263342e-c36e-48ef-ad8b-031a167aa837",
   "metadata": {},
   "source": [
    "## Matplotlib\n",
    "\n",
    "[Matplotlib](https://matplotlib.org/) is a comprehensive library for creating static, animated, and interactive visualizations in Python."
   ]
  },
  {
   "cell_type": "code",
   "execution_count": 7,
   "id": "75aedcdf-16c0-449f-bbb4-a01e650a27b6",
   "metadata": {},
   "outputs": [
    {
     "data": {
      "image/png": "[encoded data removed]",
      "text/plain": [
       "<Figure size 640x480 with 1 Axes>"
      ]
     },
     "metadata": {},
     "output_type": "display_data"
    }
   ],
   "source": [
    "%matplotlib inline\n",
    "import matplotlib.pyplot as plt\n",
    "import numpy as np\n",
    "plt.style.use('ggplot')\n",
    "\n",
    "# make data\n",
    "np.random.seed(10)\n",
    "D = np.random.normal((3, 5, 4), (1.25, 1.00, 1.25), (100, 3))\n",
    "\n",
    "# plot\n",
    "fig, ax = plt.subplots()\n",
    "VP = ax.boxplot(\n",
    "    D, positions=[2, 4, 6], widths=1.5, patch_artist=True,\n",
    "    showmeans=False, showfliers=False,\n",
    "    medianprops={\"color\": \"white\", \"linewidth\": 0.5},\n",
    "    boxprops={\"facecolor\": \"C0\", \"edgecolor\": \"white\", \"linewidth\": 0.5},\n",
    "    whiskerprops={\"color\": \"C0\", \"linewidth\": 1.5},\n",
    "    capprops={\"color\": \"C0\", \"linewidth\": 1.5}\n",
    ")\n",
    "ax.set(\n",
    "    xlim=(0, 8), xticks=np.arange(1, 8),\n",
    "    ylim=(0, 8), yticks=np.arange(1, 8)\n",
    ")\n",
    "plt.show()"
   ]
  },
  {
   "cell_type": "markdown",
   "id": "37042c8a-acfa-4a05-ace3-10036788bcdf",
   "metadata": {},
   "source": [
    "## seaborn\n",
    "\n",
    "[Seaborn](https://seaborn.pydata.org/tutorial/introduction.html) is a library for making statistical graphics in Python. It builds on top of matplotlib and integrates closely with pandas data structures.\n",
    "\n",
    "Seaborn helps you explore and understand your data. Its plotting functions operate on dataframes and arrays containing whole datasets and internally perform the necessary semantic mapping and statistical aggregation to produce informative plots. Its dataset-oriented, declarative API lets you focus on what the different elements of your plots mean, rather than on the details of how to draw them.\n",
    "\n",
    "- While you can be productive using only seaborn functions, full customization of your graphics will require some knowledge of matplotlib’s concepts and API. One aspect of the learning curve for new users of seaborn will be knowing when dropping down to the matplotlib layer is necessary to achieve a particular customization.\n",
    "- Matplotlib has a comprehensive and powerful API; just about any attribute of the figure can be changed to your liking. A combination of seaborn’s high-level interface and matplotlib’s deep customizability will allow you both to quickly explore your data and to create graphics that can be tailored into a publication quality final product."
   ]
  },
  {
   "cell_type": "code",
   "execution_count": null,
   "id": "f86e0bb2-706e-4fe3-b0c1-56c99c575215",
   "metadata": {},
   "outputs": [],
   "source": [
    "import seaborn as sns\n",
    "sns.set_theme(style=\"ticks\", palette=\"pastel\")\n",
    "tips = sns.load_dataset(\"tips\")"
   ]
  },
  {
   "cell_type": "code",
   "execution_count": null,
   "id": "71537af1-34aa-44f8-b0ba-f87e5f227a25",
   "metadata": {},
   "outputs": [],
   "source": [
    "sns.boxplot(\n",
    "    data=tips, x=\"day\", y=\"total_bill\",\n",
    "    hue=\"smoker\", palette=[\"m\", \"g\"]\n",
    ")\n",
    "sns.despine(offset=10, trim=True)"
   ]
  },
  {
   "cell_type": "markdown",
   "id": "57f0dd65-c99b-49db-8a79-88fcd91dac00",
   "metadata": {},
   "source": [
    "## SciPy\n",
    "\n",
    "[SciPy](https://docs.scipy.org/doc/scipy/tutorial/) is a collection of mathematical algorithms and convenience functions built on NumPy.\n",
    "\n",
    "| subpackage  | description                                            |\n",
    "|-------------|--------------------------------------------------------|\n",
    "| special     | special functions                                      |\n",
    "| integrate   | integration and ordinary differential equation solvers |\n",
    "| optimize    | optimization and root-finding routines                 |\n",
    "| interpolate | interpolation and smoothing splines                    |\n",
    "| fft         | discrete fourier transforms                            |\n",
    "| signal      | signal processing                                      |\n",
    "| linalg      | linear algebra                                         |\n",
    "| sparse      | sparse matrices and associated routines                |\n",
    "| spatial     | spatial data structures and algorithms                 |\n",
    "| stats       | statical distributions and functions                   |\n",
    "| ndimage     | n-dimensional image processing                         |\n",
    "| io          | file input and output                                  |\n",
    "| cluster     | clustering algorithm                                   |\n",
    "| constants   | physical and mathematical constants                    |\n",
    "| odr         | orthogonal distance regression                         |"
   ]
  },
  {
   "cell_type": "markdown",
   "id": "cab135b4-4257-415e-8f90-8917abec0186",
   "metadata": {},
   "source": [
    "## Sympy\n",
    "\n",
    "Symbolic computation systems (which by the way, are also often called computer algebra systems, or just CASs) such as [SymPy](https://docs.sympy.org/latest/tutorials/intro-tutorial/intro.html) are capable of computing symbolic expressions with variables."
   ]
  },
  {
   "cell_type": "code",
   "execution_count": null,
   "id": "c7b489fa-d4fd-4be5-b904-bdb017acf8b5",
   "metadata": {},
   "outputs": [],
   "source": [
    "import sympy as sm"
   ]
  },
  {
   "cell_type": "code",
   "execution_count": null,
   "id": "3a44125c-5d33-4ed6-9de7-cdc4fda551f3",
   "metadata": {},
   "outputs": [],
   "source": [
    "x, y = sm.symbols('x y')\n",
    "expr1 = x + 2*y\n",
    "expr2 = expr1 + x\n",
    "assert expr2 == 2*x + 2*y"
   ]
  },
  {
   "cell_type": "markdown",
   "id": "3c614424-73ac-492e-ae33-4bf04be4ab7e",
   "metadata": {},
   "source": [
    "The real power of a symbolic computation system such as SymPy is the ability to do all sorts of computations symbolically."
   ]
  },
  {
   "cell_type": "code",
   "execution_count": null,
   "id": "1d2746c2-e87c-46ae-a645-6d0cbb51a00e",
   "metadata": {},
   "outputs": [],
   "source": [
    "f = sm.sin(x)*sm.exp(x)\n",
    "fp = sm.diff(f)\n",
    "assert fp == sm.exp(x)*sm.sin(x) + sm.exp(x)*sm.cos(x)"
   ]
  }
 ],
 "metadata": {
  "kernelspec": {
   "display_name": "Python 3 (ipykernel)",
   "language": "python",
   "name": "python3"
  },
  "language_info": {
   "codemirror_mode": {
    "name": "ipython",
    "version": 3
   },
   "file_extension": ".py",
   "mimetype": "text/x-python",
   "name": "python",
   "nbconvert_exporter": "python",
   "pygments_lexer": "ipython3",
   "version": "3.12.3"
  }
 },
 "nbformat": 4,
 "nbformat_minor": 5
}
